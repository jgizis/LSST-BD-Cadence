{
 "cells": [
  {
   "cell_type": "code",
   "execution_count": null,
   "metadata": {},
   "outputs": [],
   "source": [
    "#John Gizis\n",
    "#Plot parallax observations for a given LSST simulation. adopted from Peter Yoachim's code at https://github.com/yoachim/LSST-BD-Cadence/blob/main/Pass_example.ipynb\n"
   ]
  },
  {
   "cell_type": "code",
   "execution_count": null,
   "metadata": {},
   "outputs": [],
   "source": [
    "import lsst.sims.maf.utils as mafUtils\n",
    "import lsst.sims.utils as utils\n",
    "\n",
    "%matplotlib inline\n",
    "import numpy as np\n",
    "import matplotlib.pyplot as plt\n",
    "import healpy as hp\n",
    "\n",
    "import lsst.sims.maf.db as db\n",
    "import lsst.sims.maf.utils as utils\n",
    "import lsst.sims.maf.metrics as metrics\n",
    "import lsst.sims.maf.slicers as slicers\n",
    "import lsst.sims.maf.stackers as stackers\n",
    "import lsst.sims.maf.metricBundles as metricBundles"
   ]
  },
  {
   "cell_type": "code",
   "execution_count": null,
   "metadata": {},
   "outputs": [],
   "source": [
    "dbFile = '/sims_maf/fbs_1.7/baseline/baseline_nexp2_v1.7_10yrs.db' \n",
    "runName = dbFile.replace('.db', '')\n",
    "conn = db.OpsimDatabase(dbFile)\n",
    "outDir='illustrate'\n",
    "resultsDb = db.ResultsDb(outDir=outDir)"
   ]
  },
  {
   "cell_type": "code",
   "execution_count": null,
   "metadata": {},
   "outputs": [],
   "source": [
    "bundleList = []\n",
    "#sql = 'filter=\"z\" or filter=\"y\"'\n",
    "sql = 'visitExposureTime > 15.'\n",
    "metric = metrics.PassMetric(cols=['filter', 'fiveSigmaDepth', 'ra_pi_amp',\n",
    "                                  'dec_pi_amp', 'seeingFwhmGeom','observationStartMJD'\n",
    "                                 ])\n",
    "slicer = slicers.UserPointsSlicer(ra=0, dec=-20.)\n",
    "plotDict = {}\n",
    "bundleList.append(metricBundles.MetricBundle(metric,slicer,sql, plotDict=plotDict,\n",
    "                                             runName=runName))\n"
   ]
  },
  {
   "cell_type": "code",
   "execution_count": null,
   "metadata": {},
   "outputs": [],
   "source": [
    "bd = metricBundles.makeBundlesDictFromList(bundleList)\n",
    "bg = metricBundles.MetricBundleGroup(bd, conn, outDir=outDir, resultsDb=resultsDb)\n",
    "bg.runAll()"
   ]
  },
  {
   "cell_type": "code",
   "execution_count": null,
   "metadata": {},
   "outputs": [],
   "source": [
    "bundleList[0].metricValues[0].dtype\n",
    "dataSlice = bundleList[0].metricValues[0]"
   ]
  },
  {
   "cell_type": "code",
   "execution_count": null,
   "metadata": {},
   "outputs": [],
   "source": [
    "dataSlice.dtype\n"
   ]
  },
  {
   "cell_type": "code",
   "execution_count": null,
   "metadata": {},
   "outputs": [],
   "source": [
    "# Here's the parallax amplitude. I'll just assume a 1\" parallax star, but could multiply by any factor.\n",
    "parallax_amplitude = (dataSlice['ra_pi_amp']**2 + dataSlice['dec_pi_amp']**2)**0.5\n",
    "star_mag = 20.  # Just assume a flat SED. This is used in the estimate of the uncertainty.\n",
    "snr = parallax_amplitude*0\n",
    "atm_err = 0.01\n",
    "\n",
    "for filt in np.unique(dataSlice['filter']):\n",
    "    good = np.where(dataSlice['filter'] == filt)\n",
    "    snr[good] = mafUtils.m52snr(star_mag, dataSlice['fiveSigmaDepth'][good])\n",
    "position_errors = np.sqrt(mafUtils.astrom_precision(dataSlice['seeingFwhmGeom'],\n",
    "                                                            snr)**2+atm_err**2)"
   ]
  },
  {
   "cell_type": "code",
   "execution_count": null,
   "metadata": {},
   "outputs": [],
   "source": [
    "f2c = {'u': 'purple', 'g': 'blue', 'r': 'green',\n",
    "           'i': 'cyan', 'z': 'orange', 'y': 'red'}\n",
    "\n",
    "for filt in 'ugrizy':\n",
    "    good = np.where(dataSlice['filter'] == filt)\n",
    "    plt.errorbar(dataSlice['observationStartMJD'][good], parallax_amplitude[good], yerr=position_errors[good],\n",
    "                color=f2c[filt], fmt='o', label=filt)\n",
    "plt.legend(loc=(1.04,0))\n",
    "plt.xlabel('MJD (days)')\n",
    "plt.ylabel('Parallax Amplitude (arcsec)')"
   ]
  },
  {
   "cell_type": "code",
   "execution_count": null,
   "metadata": {},
   "outputs": [],
   "source": [
    "izy = np.where((dataSlice['filter'] == 'z')||(dataSlice['filter'] == 'y')\n",
    "plt.plot(dataSlice['observationStartMJD'][izy],dataSlice['ra_pi_amp'][izy],fmt='o',color='C1')\n",
    "plt.xlabel('MJD (days)')\n",
    "plt.ylabel('RA Parallax Factor')               "
   ]
  }
 ],
 "metadata": {
  "kernelspec": {
   "display_name": "Python 3",
   "language": "python",
   "name": "python3"
  },
  "language_info": {
   "codemirror_mode": {
    "name": "ipython",
    "version": 3
   },
   "file_extension": ".py",
   "mimetype": "text/x-python",
   "name": "python",
   "nbconvert_exporter": "python",
   "pygments_lexer": "ipython3",
   "version": "3.7.7"
  }
 },
 "nbformat": 4,
 "nbformat_minor": 4
}
