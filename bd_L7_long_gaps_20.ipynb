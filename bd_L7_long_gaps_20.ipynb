{
 "cells": [
  {
   "cell_type": "raw",
   "metadata": {},
   "source": [
    "This notebook computes the volume in which we can measure high-quality parallaxes (SNR>10) of ultracool dwarfs (brown dwarfs) for representative spectral type L7 on a variety of cadence simulations. This one does the new V2.0 simulations -- long gaps is a family suggested by TVS\n",
    "\n",
    "\n",
    "Includes a filter to remove any short (i.e., 1s)  exposures because astrometric accuracy will be much worse for them.  \n",
    "\n",
    "includes DCR because we havent checked them for yet\n",
    "\n",
    "Also, change distances considered to not waste so much time on hopeless cases.\n",
    "\n",
    "V2.0 simulations described here:\n",
    "\n",
    "https://community.lsst.org/t/survey-simulations-v2-0-release-nov-2021/6059/2\n",
    "\n",
    "\n"
   ]
  },
  {
   "cell_type": "code",
   "execution_count": 1,
   "metadata": {},
   "outputs": [],
   "source": [
    "#note this now uses rubin_sim package\n",
    "# See https://community.lsst.org/t/announcing-rubin-sim/5881\n",
    "\n",
    "\n",
    "from rubin_sim.maf.metrics.baseMetric import BaseMetric\n",
    "from scipy import interpolate\n",
    "\n",
    "import rubin_sim.maf.utils as mafUtils\n",
    "\n",
    "\n",
    "%matplotlib inline\n",
    "import numpy as np\n",
    "import matplotlib.pyplot as plt\n",
    "import healpy as hp\n",
    "\n",
    "import rubin_sim.maf.db as db\n",
    "import rubin_sim.maf.utils as utils\n",
    "import rubin_sim.maf.metrics as metrics\n",
    "import rubin_sim.maf.slicers as slicers\n",
    "import rubin_sim.maf.metricBundles as metricBundles\n",
    "import rubin_sim.maf.plots as plots\n",
    "import rubin_sim.maf.maps as maps\n",
    "# need a different set of utils for the stellarmags\n",
    "import rubin_sim.utils as sims_utils\n",
    "\n",
    "\n",
    "import glob\n"
   ]
  },
  {
   "cell_type": "code",
   "execution_count": 2,
   "metadata": {},
   "outputs": [],
   "source": [
    "# Copy and modify the ParallaxMetric\n",
    "\n",
    "class BDParallaxMetric(BaseMetric):\n",
    "    \"\"\"Calculate the distance to which one could reach a parallax SNR for a given object\n",
    "\n",
    "    Uses columns ra_pi_amp and dec_pi_amp, calculated by the ParallaxFactorStacker.\n",
    "\n",
    "    Parameters\n",
    "    ----------\n",
    "    metricName : str, opt\n",
    "        Default 'parallax'.\n",
    "    m5Col : str, opt\n",
    "        The default column name for m5 information in the input data. Default fiveSigmaDepth.\n",
    "    filterCol : str, opt\n",
    "        The column name for the filter information. Default filter.\n",
    "    seeingCol : str, opt\n",
    "        The column name for the seeing information. Since the astrometry errors are based on the physical\n",
    "        size of the PSF, this should be the FWHM of the physical psf. Default seeingFwhmGeom.\n",
    "    mags : dict\n",
    "        The absolute magnitude of the obeject in question. Keys of filter name, values in mags.\n",
    "    distances : np.array\n",
    "        Distances to try putting the object at (pc).\n",
    "    atm_err : float, opt\n",
    "        The expected centroiding error due to the atmosphere, in arcseconds. Default 0.01.\n",
    "    badval : float, opt\n",
    "        The value to return when the metric value cannot be calculated. Default 0.\n",
    "    \"\"\"\n",
    "    def __init__(self, metricName='bdParallax', m5Col='fiveSigmaDepth',\n",
    "                 filterCol='filter', seeingCol='seeingFwhmGeom',\n",
    "                 badval=0, mags={'z': 18.18, 'y': 17.13}, parallax_snr=10.,\n",
    "                 distances=np.arange(10, 200, 20), \n",
    "                 atm_err=0.01, normalize=False, min_exp_time=15., \n",
    "                 exptimeCol='visitExposureTime', **kwargs):\n",
    "        Cols = [m5Col, filterCol, seeingCol, exptimeCol, 'ra_pi_amp', 'dec_pi_amp']\n",
    "        \n",
    "        units = 'pc'\n",
    "        super(BDParallaxMetric, self).__init__(Cols, metricName=metricName, units=units,\n",
    "                                             badval=badval, **kwargs)\n",
    "        # set return type\n",
    "        self.m5Col = m5Col\n",
    "        self.seeingCol = seeingCol\n",
    "        self.filterCol = filterCol\n",
    "        self.distances = distances\n",
    "        self.exptimeCol = exptimeCol\n",
    "        self.mags = {}\n",
    "        distance_mod = 5.0*np.log10(distances)-5.0\n",
    "        for key in mags:\n",
    "            self.mags[key] = mags[key] + distance_mod\n",
    "        self.parallax_snr_goal = parallax_snr\n",
    "        self.atm_err = atm_err\n",
    "        self.filters = list(self.mags.keys())\n",
    "        self.parallaxes = 1000.0/distances  #mas\n",
    "        self.min_exp_time = min_exp_time\n",
    "        \n",
    "    def _final_sigma(self, position_errors, ra_pi_amp, dec_pi_amp):\n",
    "        \"\"\"Assume parallax in RA and DEC are fit independently, then combined.\n",
    "        All inputs assumed to be arcsec \"\"\"\n",
    "        sigma_A = position_errors/ra_pi_amp\n",
    "        sigma_B = position_errors/dec_pi_amp\n",
    "        sigma_ra = np.sqrt(1./np.sum(1./sigma_A**2, axis=1))\n",
    "        sigma_dec = np.sqrt(1./np.sum(1./sigma_B**2, axis=1))\n",
    "        # Combine RA and Dec uncertainties, convert to mas\n",
    "        sigma = np.sqrt(1./(1./sigma_ra**2+1./sigma_dec**2))*1e3\n",
    "        return sigma\n",
    "\n",
    "    def run(self, dataslice, slicePoint=None):\n",
    "        snr = np.zeros((np.size(self.mags[self.filters[0]]), len(dataslice)), dtype='float')\n",
    "        # compute SNR for all observations\n",
    "        for filt in self.filters:\n",
    "            if self.min_exp_time is not None:\n",
    "                good = np.where((dataslice[self.filterCol] == filt) &\n",
    "                                (dataslice[self.exptimeCol] >= self.min_exp_time))[0]\n",
    "            else:\n",
    "                good = np.where(dataslice[self.filterCol] == filt)[0]\n",
    "            if np.size(good) > 0:\n",
    "                snr[:, good] = mafUtils.m52snr(self.mags[str(filt)][:, np.newaxis],\n",
    "                                               dataslice[self.m5Col][good])\n",
    "                \n",
    "        \n",
    "        position_errors = np.sqrt(mafUtils.astrom_precision(dataslice[self.seeingCol],\n",
    "                                                            snr)**2+self.atm_err**2)\n",
    "        # uncertainty in the parallax in mas\n",
    "        sigma = self._final_sigma(position_errors, dataslice['ra_pi_amp'], dataslice['dec_pi_amp'])\n",
    "        fitted_parallax_snr = self.parallaxes/sigma\n",
    "        result = self.badval\n",
    "        # Let's interpolate to the distance where we would get our target SNR\n",
    "        if np.max(fitted_parallax_snr) >= self.parallax_snr_goal:\n",
    "            f = interpolate.interp1d(fitted_parallax_snr, self.distances, fill_value=\"extrapolate\")\n",
    "            result = f(self.parallax_snr_goal)\n",
    "        return result"
   ]
  },
  {
   "cell_type": "code",
   "execution_count": 3,
   "metadata": {},
   "outputs": [],
   "source": [
    "class VolumeSumMetric(BaseMetric):\n",
    "    \"\"\"Compute the total volume assuming a metric has values of distance\n",
    "    \"\"\"\n",
    "    def __init__(self, col=None, metricName='VolumeSum', nside=None, **kwargs):\n",
    "        super(VolumeSumMetric, self).__init__(col=col, metricName=metricName, **kwargs)\n",
    "        self.pix_area = hp.nside2pixarea(nside)\n",
    "        \n",
    "    def run(self, dataSlice, slicePoint=None):\n",
    "        # volume of sphere, times ratio of pixel area divided by area of sphere\n",
    "        vols = 1./3. * dataSlice[self.colname]**3 * self.pix_area\n",
    "        return np.sum(vols)"
   ]
  },
  {
   "cell_type": "code",
   "execution_count": null,
   "metadata": {},
   "outputs": [
    {
     "name": "stdout",
     "output_type": "stream",
     "text": [
      "Healpix slicer using NSIDE=64, approximate resolution 54.967783 arcminutes\n",
      "Querying database observations with no constraint for columns ['visitExposureTime', 'seeingFwhmGeom', 'fieldDec', 'filter', 'fieldRA', 'fiveSigmaDepth', 'observationStartMJD', 'rotSkyPos'].\n",
      "Found 2046745 visits\n",
      "Running:  ['_sims_maf_fbs_2_0_long_gaps_long_gaps_nightsoff0_delayed-1_v2_0_10yrs_L7_HEAL']\n"
     ]
    },
    {
     "name": "stderr",
     "output_type": "stream",
     "text": [
      "/data0/sw/lsst_stack-2021.10.13/rubin_sim/rubin_sim/maf/utils/astrometryUtils.py:72: RuntimeWarning: divide by zero encountered in true_divide\n",
      "  result = fwhm/(snr)\n",
      "<ipython-input-2-32808caa9442>:60: RuntimeWarning: divide by zero encountered in true_divide\n",
      "  sigma_ra = np.sqrt(1./np.sum(1./sigma_A**2, axis=1))\n",
      "<ipython-input-2-32808caa9442>:61: RuntimeWarning: divide by zero encountered in true_divide\n",
      "  sigma_dec = np.sqrt(1./np.sum(1./sigma_B**2, axis=1))\n",
      "<ipython-input-2-32808caa9442>:63: RuntimeWarning: divide by zero encountered in true_divide\n",
      "  sigma = np.sqrt(1./(1./sigma_ra**2+1./sigma_dec**2))*1e3\n"
     ]
    },
    {
     "name": "stdout",
     "output_type": "stream",
     "text": [
      "Completed metric generation.\n",
      "Running reduce methods.\n",
      "Running summary statistics.\n",
      "Completed.\n",
      "Querying database observations with constraint filter=\"z\" or filter=\"y\" for columns ['seeingFwhmGeom', 'fieldDec', 'altitude', 'filter', 'fieldRA', 'fiveSigmaDepth', 'observationStartLST', 'observationStartMJD', 'rotSkyPos']\n",
      "Found 774499 visits\n",
      "Running:  ['_sims_maf_fbs_2_0_long_gaps_long_gaps_nightsoff0_delayed-1_v2_0_10yrs_ParallaxDcrDegenMetric_z_or_y_HEAL']\n"
     ]
    },
    {
     "name": "stderr",
     "output_type": "stream",
     "text": [
      "0.0 180.0 -180.0 180.0\n"
     ]
    },
    {
     "name": "stdout",
     "output_type": "stream",
     "text": [
      "Completed metric generation.\n",
      "Running reduce methods.\n",
      "Running summary statistics.\n",
      "Completed.\n",
      "Plotting figures with \"\" constraint now.\n"
     ]
    },
    {
     "name": "stderr",
     "output_type": "stream",
     "text": [
      "0.0 180.0 -180.0 180.0\n"
     ]
    },
    {
     "name": "stdout",
     "output_type": "stream",
     "text": [
      "Plotting complete.\n",
      "Plotting figures with \"filter=\"z\" or filter=\"y\"\" constraint now.\n",
      "Plotting complete.\n",
      "Healpix slicer using NSIDE=64, approximate resolution 54.967783 arcminutes\n",
      "Querying database observations with no constraint for columns ['visitExposureTime', 'seeingFwhmGeom', 'fieldDec', 'filter', 'fieldRA', 'fiveSigmaDepth', 'observationStartMJD', 'rotSkyPos'].\n",
      "Found 2067452 visits\n",
      "Running:  ['_sims_maf_fbs_2_0_long_gaps_long_gaps_nightsoff0_delayed1827_v2_0_10yrs_L7_HEAL']\n"
     ]
    },
    {
     "name": "stderr",
     "output_type": "stream",
     "text": [
      "/data0/sw/lsst_stack-2021.10.13/rubin_sim/rubin_sim/maf/utils/astrometryUtils.py:72: RuntimeWarning: divide by zero encountered in true_divide\n",
      "  result = fwhm/(snr)\n",
      "<ipython-input-2-32808caa9442>:60: RuntimeWarning: divide by zero encountered in true_divide\n",
      "  sigma_ra = np.sqrt(1./np.sum(1./sigma_A**2, axis=1))\n",
      "<ipython-input-2-32808caa9442>:61: RuntimeWarning: divide by zero encountered in true_divide\n",
      "  sigma_dec = np.sqrt(1./np.sum(1./sigma_B**2, axis=1))\n",
      "<ipython-input-2-32808caa9442>:63: RuntimeWarning: divide by zero encountered in true_divide\n",
      "  sigma = np.sqrt(1./(1./sigma_ra**2+1./sigma_dec**2))*1e3\n"
     ]
    },
    {
     "name": "stdout",
     "output_type": "stream",
     "text": [
      "Completed metric generation.\n",
      "Running reduce methods.\n",
      "Running summary statistics.\n",
      "Completed.\n",
      "Querying database observations with constraint filter=\"z\" or filter=\"y\" for columns ['seeingFwhmGeom', 'fieldDec', 'altitude', 'filter', 'fieldRA', 'fiveSigmaDepth', 'observationStartLST', 'observationStartMJD', 'rotSkyPos']\n",
      "Found 783049 visits\n",
      "Running:  ['_sims_maf_fbs_2_0_long_gaps_long_gaps_nightsoff0_delayed1827_v2_0_10yrs_ParallaxDcrDegenMetric_z_or_y_HEAL']\n"
     ]
    },
    {
     "name": "stderr",
     "output_type": "stream",
     "text": [
      "0.0 180.0 -180.0 180.0\n"
     ]
    },
    {
     "name": "stdout",
     "output_type": "stream",
     "text": [
      "Completed metric generation.\n",
      "Running reduce methods.\n",
      "Running summary statistics.\n",
      "Completed.\n",
      "Plotting figures with \"\" constraint now.\n"
     ]
    },
    {
     "name": "stderr",
     "output_type": "stream",
     "text": [
      "0.0 180.0 -180.0 180.0\n"
     ]
    },
    {
     "name": "stdout",
     "output_type": "stream",
     "text": [
      "Plotting complete.\n",
      "Plotting figures with \"filter=\"z\" or filter=\"y\"\" constraint now.\n",
      "Plotting complete.\n",
      "Healpix slicer using NSIDE=64, approximate resolution 54.967783 arcminutes\n",
      "Querying database observations with no constraint for columns ['visitExposureTime', 'seeingFwhmGeom', 'fieldDec', 'filter', 'fieldRA', 'fiveSigmaDepth', 'observationStartMJD', 'rotSkyPos'].\n",
      "Found 2070980 visits\n",
      "Running:  ['_sims_maf_fbs_2_0_long_gaps_long_gaps_nightsoff1_delayed-1_v2_0_10yrs_L7_HEAL']\n"
     ]
    },
    {
     "name": "stderr",
     "output_type": "stream",
     "text": [
      "/data0/sw/lsst_stack-2021.10.13/rubin_sim/rubin_sim/maf/utils/astrometryUtils.py:72: RuntimeWarning: divide by zero encountered in true_divide\n",
      "  result = fwhm/(snr)\n",
      "<ipython-input-2-32808caa9442>:60: RuntimeWarning: divide by zero encountered in true_divide\n",
      "  sigma_ra = np.sqrt(1./np.sum(1./sigma_A**2, axis=1))\n",
      "<ipython-input-2-32808caa9442>:61: RuntimeWarning: divide by zero encountered in true_divide\n",
      "  sigma_dec = np.sqrt(1./np.sum(1./sigma_B**2, axis=1))\n",
      "<ipython-input-2-32808caa9442>:63: RuntimeWarning: divide by zero encountered in true_divide\n",
      "  sigma = np.sqrt(1./(1./sigma_ra**2+1./sigma_dec**2))*1e3\n"
     ]
    },
    {
     "name": "stdout",
     "output_type": "stream",
     "text": [
      "Completed metric generation.\n",
      "Running reduce methods.\n",
      "Running summary statistics.\n",
      "Completed.\n",
      "Querying database observations with constraint filter=\"z\" or filter=\"y\" for columns ['seeingFwhmGeom', 'fieldDec', 'altitude', 'filter', 'fieldRA', 'fiveSigmaDepth', 'observationStartLST', 'observationStartMJD', 'rotSkyPos']\n",
      "Found 788030 visits\n",
      "Running:  ['_sims_maf_fbs_2_0_long_gaps_long_gaps_nightsoff1_delayed-1_v2_0_10yrs_ParallaxDcrDegenMetric_z_or_y_HEAL']\n"
     ]
    },
    {
     "name": "stderr",
     "output_type": "stream",
     "text": [
      "0.0 180.0 -180.0 180.0\n"
     ]
    },
    {
     "name": "stdout",
     "output_type": "stream",
     "text": [
      "Completed metric generation.\n",
      "Running reduce methods.\n",
      "Running summary statistics.\n",
      "Completed.\n",
      "Plotting figures with \"\" constraint now.\n"
     ]
    },
    {
     "name": "stderr",
     "output_type": "stream",
     "text": [
      "0.0 180.0 -180.0 180.0\n"
     ]
    },
    {
     "name": "stdout",
     "output_type": "stream",
     "text": [
      "Plotting complete.\n",
      "Plotting figures with \"filter=\"z\" or filter=\"y\"\" constraint now.\n",
      "Plotting complete.\n",
      "Healpix slicer using NSIDE=64, approximate resolution 54.967783 arcminutes\n",
      "Querying database observations with no constraint for columns ['visitExposureTime', 'seeingFwhmGeom', 'fieldDec', 'filter', 'fieldRA', 'fiveSigmaDepth', 'observationStartMJD', 'rotSkyPos'].\n",
      "Found 2078434 visits\n",
      "Running:  ['_sims_maf_fbs_2_0_long_gaps_long_gaps_nightsoff1_delayed1827_v2_0_10yrs_L7_HEAL']\n"
     ]
    },
    {
     "name": "stderr",
     "output_type": "stream",
     "text": [
      "/data0/sw/lsst_stack-2021.10.13/rubin_sim/rubin_sim/maf/utils/astrometryUtils.py:72: RuntimeWarning: divide by zero encountered in true_divide\n",
      "  result = fwhm/(snr)\n",
      "<ipython-input-2-32808caa9442>:60: RuntimeWarning: divide by zero encountered in true_divide\n",
      "  sigma_ra = np.sqrt(1./np.sum(1./sigma_A**2, axis=1))\n",
      "<ipython-input-2-32808caa9442>:61: RuntimeWarning: divide by zero encountered in true_divide\n",
      "  sigma_dec = np.sqrt(1./np.sum(1./sigma_B**2, axis=1))\n",
      "<ipython-input-2-32808caa9442>:63: RuntimeWarning: divide by zero encountered in true_divide\n",
      "  sigma = np.sqrt(1./(1./sigma_ra**2+1./sigma_dec**2))*1e3\n"
     ]
    },
    {
     "name": "stdout",
     "output_type": "stream",
     "text": [
      "Completed metric generation.\n",
      "Running reduce methods.\n",
      "Running summary statistics.\n",
      "Completed.\n",
      "Querying database observations with constraint filter=\"z\" or filter=\"y\" for columns ['seeingFwhmGeom', 'fieldDec', 'altitude', 'filter', 'fieldRA', 'fiveSigmaDepth', 'observationStartLST', 'observationStartMJD', 'rotSkyPos']\n",
      "Found 791071 visits\n",
      "Running:  ['_sims_maf_fbs_2_0_long_gaps_long_gaps_nightsoff1_delayed1827_v2_0_10yrs_ParallaxDcrDegenMetric_z_or_y_HEAL']\n"
     ]
    },
    {
     "name": "stderr",
     "output_type": "stream",
     "text": [
      "0.0 180.0 -180.0 180.0\n"
     ]
    },
    {
     "name": "stdout",
     "output_type": "stream",
     "text": [
      "Completed metric generation.\n",
      "Running reduce methods.\n",
      "Running summary statistics.\n",
      "Completed.\n",
      "Plotting figures with \"\" constraint now.\n",
      "Plotting complete.\n",
      "Plotting figures with \"filter=\"z\" or filter=\"y\"\" constraint now.\n"
     ]
    },
    {
     "name": "stderr",
     "output_type": "stream",
     "text": [
      "0.0 180.0 -180.0 180.0\n"
     ]
    },
    {
     "name": "stdout",
     "output_type": "stream",
     "text": [
      "Plotting complete.\n",
      "Healpix slicer using NSIDE=64, approximate resolution 54.967783 arcminutes\n",
      "Querying database observations with no constraint for columns ['visitExposureTime', 'seeingFwhmGeom', 'fieldDec', 'filter', 'fieldRA', 'fiveSigmaDepth', 'observationStartMJD', 'rotSkyPos'].\n",
      "Found 2076198 visits\n",
      "Running:  ['_sims_maf_fbs_2_0_long_gaps_long_gaps_nightsoff2_delayed-1_v2_0_10yrs_L7_HEAL']\n"
     ]
    },
    {
     "name": "stderr",
     "output_type": "stream",
     "text": [
      "/data0/sw/lsst_stack-2021.10.13/rubin_sim/rubin_sim/maf/utils/astrometryUtils.py:72: RuntimeWarning: divide by zero encountered in true_divide\n",
      "  result = fwhm/(snr)\n",
      "<ipython-input-2-32808caa9442>:60: RuntimeWarning: divide by zero encountered in true_divide\n",
      "  sigma_ra = np.sqrt(1./np.sum(1./sigma_A**2, axis=1))\n",
      "<ipython-input-2-32808caa9442>:61: RuntimeWarning: divide by zero encountered in true_divide\n",
      "  sigma_dec = np.sqrt(1./np.sum(1./sigma_B**2, axis=1))\n",
      "<ipython-input-2-32808caa9442>:63: RuntimeWarning: divide by zero encountered in true_divide\n",
      "  sigma = np.sqrt(1./(1./sigma_ra**2+1./sigma_dec**2))*1e3\n"
     ]
    },
    {
     "name": "stdout",
     "output_type": "stream",
     "text": [
      "Completed metric generation.\n",
      "Running reduce methods.\n",
      "Running summary statistics.\n",
      "Completed.\n",
      "Querying database observations with constraint filter=\"z\" or filter=\"y\" for columns ['seeingFwhmGeom', 'fieldDec', 'altitude', 'filter', 'fieldRA', 'fiveSigmaDepth', 'observationStartLST', 'observationStartMJD', 'rotSkyPos']\n",
      "Found 791875 visits\n",
      "Running:  ['_sims_maf_fbs_2_0_long_gaps_long_gaps_nightsoff2_delayed-1_v2_0_10yrs_ParallaxDcrDegenMetric_z_or_y_HEAL']\n"
     ]
    },
    {
     "name": "stderr",
     "output_type": "stream",
     "text": [
      "0.0 180.0 -180.0 180.0\n"
     ]
    },
    {
     "name": "stdout",
     "output_type": "stream",
     "text": [
      "Completed metric generation.\n",
      "Running reduce methods.\n",
      "Running summary statistics.\n",
      "Completed.\n",
      "Plotting figures with \"\" constraint now.\n"
     ]
    },
    {
     "name": "stderr",
     "output_type": "stream",
     "text": [
      "0.0 180.0 -180.0 180.0\n"
     ]
    },
    {
     "name": "stdout",
     "output_type": "stream",
     "text": [
      "Plotting complete.\n",
      "Plotting figures with \"filter=\"z\" or filter=\"y\"\" constraint now.\n",
      "Plotting complete.\n",
      "Healpix slicer using NSIDE=64, approximate resolution 54.967783 arcminutes\n",
      "Querying database observations with no constraint for columns ['visitExposureTime', 'seeingFwhmGeom', 'fieldDec', 'filter', 'fieldRA', 'fiveSigmaDepth', 'observationStartMJD', 'rotSkyPos'].\n",
      "Found 2081844 visits\n",
      "Running:  ['_sims_maf_fbs_2_0_long_gaps_long_gaps_nightsoff2_delayed1827_v2_0_10yrs_L7_HEAL']\n"
     ]
    },
    {
     "name": "stderr",
     "output_type": "stream",
     "text": [
      "/data0/sw/lsst_stack-2021.10.13/rubin_sim/rubin_sim/maf/utils/astrometryUtils.py:72: RuntimeWarning: divide by zero encountered in true_divide\n",
      "  result = fwhm/(snr)\n",
      "<ipython-input-2-32808caa9442>:60: RuntimeWarning: divide by zero encountered in true_divide\n",
      "  sigma_ra = np.sqrt(1./np.sum(1./sigma_A**2, axis=1))\n",
      "<ipython-input-2-32808caa9442>:61: RuntimeWarning: divide by zero encountered in true_divide\n",
      "  sigma_dec = np.sqrt(1./np.sum(1./sigma_B**2, axis=1))\n",
      "<ipython-input-2-32808caa9442>:63: RuntimeWarning: divide by zero encountered in true_divide\n",
      "  sigma = np.sqrt(1./(1./sigma_ra**2+1./sigma_dec**2))*1e3\n"
     ]
    },
    {
     "name": "stdout",
     "output_type": "stream",
     "text": [
      "Completed metric generation.\n",
      "Running reduce methods.\n",
      "Running summary statistics.\n",
      "Completed.\n",
      "Querying database observations with constraint filter=\"z\" or filter=\"y\" for columns ['seeingFwhmGeom', 'fieldDec', 'altitude', 'filter', 'fieldRA', 'fiveSigmaDepth', 'observationStartLST', 'observationStartMJD', 'rotSkyPos']\n",
      "Found 793051 visits\n",
      "Running:  ['_sims_maf_fbs_2_0_long_gaps_long_gaps_nightsoff2_delayed1827_v2_0_10yrs_ParallaxDcrDegenMetric_z_or_y_HEAL']\n"
     ]
    },
    {
     "name": "stderr",
     "output_type": "stream",
     "text": [
      "/data0/sw/lsst_stack-2021.10.13/rubin_sim/rubin_sim/maf/plots/spatialPlotters.py:141: RuntimeWarning: More than 20 figures have been opened. Figures created through the pyplot interface (`matplotlib.pyplot.figure`) are retained until explicitly closed and may consume too much memory. (To control this warning, see the rcParam `figure.max_open_warning`).\n",
      "  fig = plt.figure(fignum, figsize=plotDict['figsize'])\n",
      "0.0 180.0 -180.0 180.0\n"
     ]
    },
    {
     "name": "stdout",
     "output_type": "stream",
     "text": [
      "Completed metric generation.\n",
      "Running reduce methods.\n",
      "Running summary statistics.\n",
      "Completed.\n",
      "Plotting figures with \"\" constraint now.\n"
     ]
    },
    {
     "name": "stderr",
     "output_type": "stream",
     "text": [
      "0.0 180.0 -180.0 180.0\n"
     ]
    },
    {
     "name": "stdout",
     "output_type": "stream",
     "text": [
      "Plotting complete.\n",
      "Plotting figures with \"filter=\"z\" or filter=\"y\"\" constraint now.\n",
      "Plotting complete.\n",
      "Healpix slicer using NSIDE=64, approximate resolution 54.967783 arcminutes\n",
      "Querying database observations with no constraint for columns ['visitExposureTime', 'seeingFwhmGeom', 'fieldDec', 'filter', 'fieldRA', 'fiveSigmaDepth', 'observationStartMJD', 'rotSkyPos'].\n",
      "Found 2079329 visits\n",
      "Running:  ['_sims_maf_fbs_2_0_long_gaps_long_gaps_nightsoff3_delayed-1_v2_0_10yrs_L7_HEAL']\n"
     ]
    },
    {
     "name": "stderr",
     "output_type": "stream",
     "text": [
      "/data0/sw/lsst_stack-2021.10.13/rubin_sim/rubin_sim/maf/utils/astrometryUtils.py:72: RuntimeWarning: divide by zero encountered in true_divide\n",
      "  result = fwhm/(snr)\n",
      "<ipython-input-2-32808caa9442>:60: RuntimeWarning: divide by zero encountered in true_divide\n",
      "  sigma_ra = np.sqrt(1./np.sum(1./sigma_A**2, axis=1))\n",
      "<ipython-input-2-32808caa9442>:61: RuntimeWarning: divide by zero encountered in true_divide\n",
      "  sigma_dec = np.sqrt(1./np.sum(1./sigma_B**2, axis=1))\n",
      "<ipython-input-2-32808caa9442>:63: RuntimeWarning: divide by zero encountered in true_divide\n",
      "  sigma = np.sqrt(1./(1./sigma_ra**2+1./sigma_dec**2))*1e3\n"
     ]
    },
    {
     "name": "stdout",
     "output_type": "stream",
     "text": [
      "Completed metric generation.\n",
      "Running reduce methods.\n",
      "Running summary statistics.\n",
      "Completed.\n",
      "Querying database observations with constraint filter=\"z\" or filter=\"y\" for columns ['seeingFwhmGeom', 'fieldDec', 'altitude', 'filter', 'fieldRA', 'fiveSigmaDepth', 'observationStartLST', 'observationStartMJD', 'rotSkyPos']\n",
      "Found 792834 visits\n",
      "Running:  ['_sims_maf_fbs_2_0_long_gaps_long_gaps_nightsoff3_delayed-1_v2_0_10yrs_ParallaxDcrDegenMetric_z_or_y_HEAL']\n"
     ]
    },
    {
     "name": "stderr",
     "output_type": "stream",
     "text": [
      "0.0 180.0 -180.0 180.0\n"
     ]
    },
    {
     "name": "stdout",
     "output_type": "stream",
     "text": [
      "Completed metric generation.\n",
      "Running reduce methods.\n",
      "Running summary statistics.\n",
      "Completed.\n",
      "Plotting figures with \"\" constraint now.\n"
     ]
    },
    {
     "name": "stderr",
     "output_type": "stream",
     "text": [
      "0.0 180.0 -180.0 180.0\n"
     ]
    },
    {
     "name": "stdout",
     "output_type": "stream",
     "text": [
      "Plotting complete.\n",
      "Plotting figures with \"filter=\"z\" or filter=\"y\"\" constraint now.\n",
      "Plotting complete.\n",
      "Healpix slicer using NSIDE=64, approximate resolution 54.967783 arcminutes\n",
      "Querying database observations with no constraint for columns ['visitExposureTime', 'seeingFwhmGeom', 'fieldDec', 'filter', 'fieldRA', 'fiveSigmaDepth', 'observationStartMJD', 'rotSkyPos'].\n",
      "Found 2082889 visits\n",
      "Running:  ['_sims_maf_fbs_2_0_long_gaps_long_gaps_nightsoff3_delayed1827_v2_0_10yrs_L7_HEAL']\n"
     ]
    },
    {
     "name": "stderr",
     "output_type": "stream",
     "text": [
      "/data0/sw/lsst_stack-2021.10.13/rubin_sim/rubin_sim/maf/utils/astrometryUtils.py:72: RuntimeWarning: divide by zero encountered in true_divide\n",
      "  result = fwhm/(snr)\n",
      "<ipython-input-2-32808caa9442>:60: RuntimeWarning: divide by zero encountered in true_divide\n",
      "  sigma_ra = np.sqrt(1./np.sum(1./sigma_A**2, axis=1))\n",
      "<ipython-input-2-32808caa9442>:61: RuntimeWarning: divide by zero encountered in true_divide\n",
      "  sigma_dec = np.sqrt(1./np.sum(1./sigma_B**2, axis=1))\n",
      "<ipython-input-2-32808caa9442>:63: RuntimeWarning: divide by zero encountered in true_divide\n",
      "  sigma = np.sqrt(1./(1./sigma_ra**2+1./sigma_dec**2))*1e3\n"
     ]
    },
    {
     "name": "stdout",
     "output_type": "stream",
     "text": [
      "Completed metric generation.\n",
      "Running reduce methods.\n",
      "Running summary statistics.\n",
      "Completed.\n",
      "Querying database observations with constraint filter=\"z\" or filter=\"y\" for columns ['seeingFwhmGeom', 'fieldDec', 'altitude', 'filter', 'fieldRA', 'fiveSigmaDepth', 'observationStartLST', 'observationStartMJD', 'rotSkyPos']\n",
      "Found 794161 visits\n",
      "Running:  ['_sims_maf_fbs_2_0_long_gaps_long_gaps_nightsoff3_delayed1827_v2_0_10yrs_ParallaxDcrDegenMetric_z_or_y_HEAL']\n"
     ]
    },
    {
     "name": "stderr",
     "output_type": "stream",
     "text": [
      "0.0 180.0 -180.0 180.0\n"
     ]
    },
    {
     "name": "stdout",
     "output_type": "stream",
     "text": [
      "Completed metric generation.\n",
      "Running reduce methods.\n",
      "Running summary statistics.\n",
      "Completed.\n",
      "Plotting figures with \"\" constraint now.\n"
     ]
    },
    {
     "name": "stderr",
     "output_type": "stream",
     "text": [
      "0.0 180.0 -180.0 180.0\n"
     ]
    },
    {
     "name": "stdout",
     "output_type": "stream",
     "text": [
      "Plotting complete.\n",
      "Plotting figures with \"filter=\"z\" or filter=\"y\"\" constraint now.\n",
      "Plotting complete.\n",
      "Healpix slicer using NSIDE=64, approximate resolution 54.967783 arcminutes\n",
      "Querying database observations with no constraint for columns ['visitExposureTime', 'seeingFwhmGeom', 'fieldDec', 'filter', 'fieldRA', 'fiveSigmaDepth', 'observationStartMJD', 'rotSkyPos'].\n",
      "Found 2080392 visits\n",
      "Running:  ['_sims_maf_fbs_2_0_long_gaps_long_gaps_nightsoff4_delayed-1_v2_0_10yrs_L7_HEAL']\n"
     ]
    },
    {
     "name": "stderr",
     "output_type": "stream",
     "text": [
      "/data0/sw/lsst_stack-2021.10.13/rubin_sim/rubin_sim/maf/utils/astrometryUtils.py:72: RuntimeWarning: divide by zero encountered in true_divide\n",
      "  result = fwhm/(snr)\n",
      "<ipython-input-2-32808caa9442>:60: RuntimeWarning: divide by zero encountered in true_divide\n",
      "  sigma_ra = np.sqrt(1./np.sum(1./sigma_A**2, axis=1))\n",
      "<ipython-input-2-32808caa9442>:61: RuntimeWarning: divide by zero encountered in true_divide\n",
      "  sigma_dec = np.sqrt(1./np.sum(1./sigma_B**2, axis=1))\n",
      "<ipython-input-2-32808caa9442>:63: RuntimeWarning: divide by zero encountered in true_divide\n",
      "  sigma = np.sqrt(1./(1./sigma_ra**2+1./sigma_dec**2))*1e3\n"
     ]
    },
    {
     "name": "stdout",
     "output_type": "stream",
     "text": [
      "Completed metric generation.\n",
      "Running reduce methods.\n",
      "Running summary statistics.\n",
      "Completed.\n",
      "Querying database observations with constraint filter=\"z\" or filter=\"y\" for columns ['seeingFwhmGeom', 'fieldDec', 'altitude', 'filter', 'fieldRA', 'fiveSigmaDepth', 'observationStartLST', 'observationStartMJD', 'rotSkyPos']\n",
      "Found 794221 visits\n",
      "Running:  ['_sims_maf_fbs_2_0_long_gaps_long_gaps_nightsoff4_delayed-1_v2_0_10yrs_ParallaxDcrDegenMetric_z_or_y_HEAL']\n"
     ]
    },
    {
     "name": "stderr",
     "output_type": "stream",
     "text": [
      "0.0 180.0 -180.0 180.0\n"
     ]
    },
    {
     "name": "stdout",
     "output_type": "stream",
     "text": [
      "Completed metric generation.\n",
      "Running reduce methods.\n",
      "Running summary statistics.\n",
      "Completed.\n",
      "Plotting figures with \"\" constraint now.\n"
     ]
    },
    {
     "name": "stderr",
     "output_type": "stream",
     "text": [
      "0.0 180.0 -180.0 180.0\n"
     ]
    },
    {
     "name": "stdout",
     "output_type": "stream",
     "text": [
      "Plotting complete.\n",
      "Plotting figures with \"filter=\"z\" or filter=\"y\"\" constraint now.\n",
      "Plotting complete.\n",
      "Healpix slicer using NSIDE=64, approximate resolution 54.967783 arcminutes\n",
      "Querying database observations with no constraint for columns ['visitExposureTime', 'seeingFwhmGeom', 'fieldDec', 'filter', 'fieldRA', 'fiveSigmaDepth', 'observationStartMJD', 'rotSkyPos'].\n",
      "Found 2083856 visits\n",
      "Running:  ['_sims_maf_fbs_2_0_long_gaps_long_gaps_nightsoff4_delayed1827_v2_0_10yrs_L7_HEAL']\n"
     ]
    },
    {
     "name": "stderr",
     "output_type": "stream",
     "text": [
      "/data0/sw/lsst_stack-2021.10.13/rubin_sim/rubin_sim/maf/utils/astrometryUtils.py:72: RuntimeWarning: divide by zero encountered in true_divide\n",
      "  result = fwhm/(snr)\n",
      "<ipython-input-2-32808caa9442>:60: RuntimeWarning: divide by zero encountered in true_divide\n",
      "  sigma_ra = np.sqrt(1./np.sum(1./sigma_A**2, axis=1))\n",
      "<ipython-input-2-32808caa9442>:61: RuntimeWarning: divide by zero encountered in true_divide\n",
      "  sigma_dec = np.sqrt(1./np.sum(1./sigma_B**2, axis=1))\n",
      "<ipython-input-2-32808caa9442>:63: RuntimeWarning: divide by zero encountered in true_divide\n",
      "  sigma = np.sqrt(1./(1./sigma_ra**2+1./sigma_dec**2))*1e3\n"
     ]
    },
    {
     "name": "stdout",
     "output_type": "stream",
     "text": [
      "Completed metric generation.\n",
      "Running reduce methods.\n",
      "Running summary statistics.\n",
      "Completed.\n",
      "Querying database observations with constraint filter=\"z\" or filter=\"y\" for columns ['seeingFwhmGeom', 'fieldDec', 'altitude', 'filter', 'fieldRA', 'fiveSigmaDepth', 'observationStartLST', 'observationStartMJD', 'rotSkyPos']\n",
      "Found 794879 visits\n",
      "Running:  ['_sims_maf_fbs_2_0_long_gaps_long_gaps_nightsoff4_delayed1827_v2_0_10yrs_ParallaxDcrDegenMetric_z_or_y_HEAL']\n"
     ]
    },
    {
     "name": "stderr",
     "output_type": "stream",
     "text": [
      "0.0 180.0 -180.0 180.0\n"
     ]
    },
    {
     "name": "stdout",
     "output_type": "stream",
     "text": [
      "Completed metric generation.\n",
      "Running reduce methods.\n",
      "Running summary statistics.\n",
      "Completed.\n",
      "Plotting figures with \"\" constraint now.\n"
     ]
    },
    {
     "name": "stderr",
     "output_type": "stream",
     "text": [
      "0.0 180.0 -180.0 180.0\n"
     ]
    },
    {
     "name": "stdout",
     "output_type": "stream",
     "text": [
      "Plotting complete.\n",
      "Plotting figures with \"filter=\"z\" or filter=\"y\"\" constraint now.\n",
      "Plotting complete.\n",
      "Healpix slicer using NSIDE=64, approximate resolution 54.967783 arcminutes\n",
      "Querying database observations with no constraint for columns ['visitExposureTime', 'seeingFwhmGeom', 'fieldDec', 'filter', 'fieldRA', 'fiveSigmaDepth', 'observationStartMJD', 'rotSkyPos'].\n",
      "Found 2082106 visits\n",
      "Running:  ['_sims_maf_fbs_2_0_long_gaps_long_gaps_nightsoff5_delayed-1_v2_0_10yrs_L7_HEAL']\n"
     ]
    },
    {
     "name": "stderr",
     "output_type": "stream",
     "text": [
      "/data0/sw/lsst_stack-2021.10.13/rubin_sim/rubin_sim/maf/utils/astrometryUtils.py:72: RuntimeWarning: divide by zero encountered in true_divide\n",
      "  result = fwhm/(snr)\n",
      "<ipython-input-2-32808caa9442>:60: RuntimeWarning: divide by zero encountered in true_divide\n",
      "  sigma_ra = np.sqrt(1./np.sum(1./sigma_A**2, axis=1))\n",
      "<ipython-input-2-32808caa9442>:61: RuntimeWarning: divide by zero encountered in true_divide\n",
      "  sigma_dec = np.sqrt(1./np.sum(1./sigma_B**2, axis=1))\n",
      "<ipython-input-2-32808caa9442>:63: RuntimeWarning: divide by zero encountered in true_divide\n",
      "  sigma = np.sqrt(1./(1./sigma_ra**2+1./sigma_dec**2))*1e3\n"
     ]
    },
    {
     "name": "stdout",
     "output_type": "stream",
     "text": [
      "Completed metric generation.\n",
      "Running reduce methods.\n",
      "Running summary statistics.\n",
      "Completed.\n",
      "Querying database observations with constraint filter=\"z\" or filter=\"y\" for columns ['seeingFwhmGeom', 'fieldDec', 'altitude', 'filter', 'fieldRA', 'fiveSigmaDepth', 'observationStartLST', 'observationStartMJD', 'rotSkyPos']\n",
      "Found 793721 visits\n",
      "Running:  ['_sims_maf_fbs_2_0_long_gaps_long_gaps_nightsoff5_delayed-1_v2_0_10yrs_ParallaxDcrDegenMetric_z_or_y_HEAL']\n"
     ]
    },
    {
     "name": "stderr",
     "output_type": "stream",
     "text": [
      "0.0 180.0 -180.0 180.0\n"
     ]
    },
    {
     "name": "stdout",
     "output_type": "stream",
     "text": [
      "Completed metric generation.\n",
      "Running reduce methods.\n",
      "Running summary statistics.\n",
      "Completed.\n",
      "Plotting figures with \"\" constraint now.\n"
     ]
    },
    {
     "name": "stderr",
     "output_type": "stream",
     "text": [
      "0.0 180.0 -180.0 180.0\n"
     ]
    },
    {
     "name": "stdout",
     "output_type": "stream",
     "text": [
      "Plotting complete.\n",
      "Plotting figures with \"filter=\"z\" or filter=\"y\"\" constraint now.\n",
      "Plotting complete.\n",
      "Healpix slicer using NSIDE=64, approximate resolution 54.967783 arcminutes\n",
      "Querying database observations with no constraint for columns ['visitExposureTime', 'seeingFwhmGeom', 'fieldDec', 'filter', 'fieldRA', 'fiveSigmaDepth', 'observationStartMJD', 'rotSkyPos'].\n",
      "Found 2084570 visits\n",
      "Running:  ['_sims_maf_fbs_2_0_long_gaps_long_gaps_nightsoff5_delayed1827_v2_0_10yrs_L7_HEAL']\n"
     ]
    },
    {
     "name": "stderr",
     "output_type": "stream",
     "text": [
      "/data0/sw/lsst_stack-2021.10.13/rubin_sim/rubin_sim/maf/utils/astrometryUtils.py:72: RuntimeWarning: divide by zero encountered in true_divide\n",
      "  result = fwhm/(snr)\n",
      "<ipython-input-2-32808caa9442>:60: RuntimeWarning: divide by zero encountered in true_divide\n",
      "  sigma_ra = np.sqrt(1./np.sum(1./sigma_A**2, axis=1))\n",
      "<ipython-input-2-32808caa9442>:61: RuntimeWarning: divide by zero encountered in true_divide\n",
      "  sigma_dec = np.sqrt(1./np.sum(1./sigma_B**2, axis=1))\n",
      "<ipython-input-2-32808caa9442>:63: RuntimeWarning: divide by zero encountered in true_divide\n",
      "  sigma = np.sqrt(1./(1./sigma_ra**2+1./sigma_dec**2))*1e3\n"
     ]
    },
    {
     "name": "stdout",
     "output_type": "stream",
     "text": [
      "Completed metric generation.\n",
      "Running reduce methods.\n",
      "Running summary statistics.\n",
      "Completed.\n",
      "Querying database observations with constraint filter=\"z\" or filter=\"y\" for columns ['seeingFwhmGeom', 'fieldDec', 'altitude', 'filter', 'fieldRA', 'fiveSigmaDepth', 'observationStartLST', 'observationStartMJD', 'rotSkyPos']\n",
      "Found 794742 visits\n",
      "Running:  ['_sims_maf_fbs_2_0_long_gaps_long_gaps_nightsoff5_delayed1827_v2_0_10yrs_ParallaxDcrDegenMetric_z_or_y_HEAL']\n"
     ]
    },
    {
     "name": "stderr",
     "output_type": "stream",
     "text": [
      "0.0 180.0 -180.0 180.0\n"
     ]
    },
    {
     "name": "stdout",
     "output_type": "stream",
     "text": [
      "Completed metric generation.\n",
      "Running reduce methods.\n",
      "Running summary statistics.\n",
      "Completed.\n",
      "Plotting figures with \"\" constraint now.\n"
     ]
    },
    {
     "name": "stderr",
     "output_type": "stream",
     "text": [
      "0.0 180.0 -180.0 180.0\n"
     ]
    },
    {
     "name": "stdout",
     "output_type": "stream",
     "text": [
      "Plotting complete.\n",
      "Plotting figures with \"filter=\"z\" or filter=\"y\"\" constraint now.\n",
      "Plotting complete.\n",
      "Healpix slicer using NSIDE=64, approximate resolution 54.967783 arcminutes\n",
      "Querying database observations with no constraint for columns ['visitExposureTime', 'seeingFwhmGeom', 'fieldDec', 'filter', 'fieldRA', 'fiveSigmaDepth', 'observationStartMJD', 'rotSkyPos'].\n",
      "Found 2081933 visits\n",
      "Running:  ['_sims_maf_fbs_2_0_long_gaps_long_gaps_nightsoff6_delayed-1_v2_0_10yrs_L7_HEAL']\n"
     ]
    },
    {
     "name": "stderr",
     "output_type": "stream",
     "text": [
      "/data0/sw/lsst_stack-2021.10.13/rubin_sim/rubin_sim/maf/utils/astrometryUtils.py:72: RuntimeWarning: divide by zero encountered in true_divide\n",
      "  result = fwhm/(snr)\n",
      "<ipython-input-2-32808caa9442>:60: RuntimeWarning: divide by zero encountered in true_divide\n",
      "  sigma_ra = np.sqrt(1./np.sum(1./sigma_A**2, axis=1))\n",
      "<ipython-input-2-32808caa9442>:61: RuntimeWarning: divide by zero encountered in true_divide\n",
      "  sigma_dec = np.sqrt(1./np.sum(1./sigma_B**2, axis=1))\n",
      "<ipython-input-2-32808caa9442>:63: RuntimeWarning: divide by zero encountered in true_divide\n",
      "  sigma = np.sqrt(1./(1./sigma_ra**2+1./sigma_dec**2))*1e3\n"
     ]
    },
    {
     "name": "stdout",
     "output_type": "stream",
     "text": [
      "Completed metric generation.\n",
      "Running reduce methods.\n",
      "Running summary statistics.\n",
      "Completed.\n",
      "Querying database observations with constraint filter=\"z\" or filter=\"y\" for columns ['seeingFwhmGeom', 'fieldDec', 'altitude', 'filter', 'fieldRA', 'fiveSigmaDepth', 'observationStartLST', 'observationStartMJD', 'rotSkyPos']\n",
      "Found 794125 visits\n",
      "Running:  ['_sims_maf_fbs_2_0_long_gaps_long_gaps_nightsoff6_delayed-1_v2_0_10yrs_ParallaxDcrDegenMetric_z_or_y_HEAL']\n"
     ]
    },
    {
     "name": "stderr",
     "output_type": "stream",
     "text": [
      "0.0 180.0 -180.0 180.0\n"
     ]
    },
    {
     "name": "stdout",
     "output_type": "stream",
     "text": [
      "Completed metric generation.\n",
      "Running reduce methods.\n",
      "Running summary statistics.\n",
      "Completed.\n",
      "Plotting figures with \"\" constraint now.\n"
     ]
    },
    {
     "name": "stderr",
     "output_type": "stream",
     "text": [
      "0.0 180.0 -180.0 180.0\n"
     ]
    },
    {
     "name": "stdout",
     "output_type": "stream",
     "text": [
      "Plotting complete.\n",
      "Plotting figures with \"filter=\"z\" or filter=\"y\"\" constraint now.\n",
      "Plotting complete.\n",
      "Healpix slicer using NSIDE=64, approximate resolution 54.967783 arcminutes\n",
      "Querying database observations with no constraint for columns ['visitExposureTime', 'seeingFwhmGeom', 'fieldDec', 'filter', 'fieldRA', 'fiveSigmaDepth', 'observationStartMJD', 'rotSkyPos'].\n",
      "Found 2084436 visits\n",
      "Running:  ['_sims_maf_fbs_2_0_long_gaps_long_gaps_nightsoff6_delayed1827_v2_0_10yrs_L7_HEAL']\n"
     ]
    },
    {
     "name": "stderr",
     "output_type": "stream",
     "text": [
      "/data0/sw/lsst_stack-2021.10.13/rubin_sim/rubin_sim/maf/utils/astrometryUtils.py:72: RuntimeWarning: divide by zero encountered in true_divide\n",
      "  result = fwhm/(snr)\n",
      "<ipython-input-2-32808caa9442>:60: RuntimeWarning: divide by zero encountered in true_divide\n",
      "  sigma_ra = np.sqrt(1./np.sum(1./sigma_A**2, axis=1))\n",
      "<ipython-input-2-32808caa9442>:61: RuntimeWarning: divide by zero encountered in true_divide\n",
      "  sigma_dec = np.sqrt(1./np.sum(1./sigma_B**2, axis=1))\n",
      "<ipython-input-2-32808caa9442>:63: RuntimeWarning: divide by zero encountered in true_divide\n",
      "  sigma = np.sqrt(1./(1./sigma_ra**2+1./sigma_dec**2))*1e3\n"
     ]
    },
    {
     "name": "stdout",
     "output_type": "stream",
     "text": [
      "Completed metric generation.\n",
      "Running reduce methods.\n",
      "Running summary statistics.\n",
      "Completed.\n",
      "Querying database observations with constraint filter=\"z\" or filter=\"y\" for columns ['seeingFwhmGeom', 'fieldDec', 'altitude', 'filter', 'fieldRA', 'fiveSigmaDepth', 'observationStartLST', 'observationStartMJD', 'rotSkyPos']\n",
      "Found 794406 visits\n",
      "Running:  ['_sims_maf_fbs_2_0_long_gaps_long_gaps_nightsoff6_delayed1827_v2_0_10yrs_ParallaxDcrDegenMetric_z_or_y_HEAL']\n",
      "Completed metric generation.\n",
      "Running reduce methods.\n",
      "Running summary statistics.\n"
     ]
    },
    {
     "name": "stderr",
     "output_type": "stream",
     "text": [
      "0.0 180.0 -180.0 180.0\n"
     ]
    },
    {
     "name": "stdout",
     "output_type": "stream",
     "text": [
      "Completed.\n",
      "Plotting figures with \"\" constraint now.\n"
     ]
    },
    {
     "name": "stderr",
     "output_type": "stream",
     "text": [
      "0.0 180.0 -180.0 180.0\n"
     ]
    },
    {
     "name": "stdout",
     "output_type": "stream",
     "text": [
      "Plotting complete.\n",
      "Plotting figures with \"filter=\"z\" or filter=\"y\"\" constraint now.\n",
      "Plotting complete.\n",
      "Healpix slicer using NSIDE=64, approximate resolution 54.967783 arcminutes\n",
      "Querying database observations with no constraint for columns ['visitExposureTime', 'seeingFwhmGeom', 'fieldDec', 'filter', 'fieldRA', 'fiveSigmaDepth', 'observationStartMJD', 'rotSkyPos'].\n",
      "Found 2083825 visits\n",
      "Running:  ['_sims_maf_fbs_2_0_long_gaps_long_gaps_nightsoff7_delayed-1_v2_0_10yrs_L7_HEAL']\n"
     ]
    },
    {
     "name": "stderr",
     "output_type": "stream",
     "text": [
      "/data0/sw/lsst_stack-2021.10.13/rubin_sim/rubin_sim/maf/utils/astrometryUtils.py:72: RuntimeWarning: divide by zero encountered in true_divide\n",
      "  result = fwhm/(snr)\n",
      "<ipython-input-2-32808caa9442>:60: RuntimeWarning: divide by zero encountered in true_divide\n",
      "  sigma_ra = np.sqrt(1./np.sum(1./sigma_A**2, axis=1))\n",
      "<ipython-input-2-32808caa9442>:61: RuntimeWarning: divide by zero encountered in true_divide\n",
      "  sigma_dec = np.sqrt(1./np.sum(1./sigma_B**2, axis=1))\n",
      "<ipython-input-2-32808caa9442>:63: RuntimeWarning: divide by zero encountered in true_divide\n",
      "  sigma = np.sqrt(1./(1./sigma_ra**2+1./sigma_dec**2))*1e3\n"
     ]
    },
    {
     "name": "stdout",
     "output_type": "stream",
     "text": [
      "Completed metric generation.\n",
      "Running reduce methods.\n",
      "Running summary statistics.\n",
      "Completed.\n",
      "Querying database observations with constraint filter=\"z\" or filter=\"y\" for columns ['seeingFwhmGeom', 'fieldDec', 'altitude', 'filter', 'fieldRA', 'fiveSigmaDepth', 'observationStartLST', 'observationStartMJD', 'rotSkyPos']\n",
      "Found 795163 visits\n",
      "Running:  ['_sims_maf_fbs_2_0_long_gaps_long_gaps_nightsoff7_delayed-1_v2_0_10yrs_ParallaxDcrDegenMetric_z_or_y_HEAL']\n"
     ]
    },
    {
     "name": "stderr",
     "output_type": "stream",
     "text": [
      "0.0 180.0 -180.0 180.0\n"
     ]
    },
    {
     "name": "stdout",
     "output_type": "stream",
     "text": [
      "Completed metric generation.\n",
      "Running reduce methods.\n",
      "Running summary statistics.\n",
      "Completed.\n",
      "Plotting figures with \"\" constraint now.\n"
     ]
    },
    {
     "name": "stderr",
     "output_type": "stream",
     "text": [
      "0.0 180.0 -180.0 180.0\n"
     ]
    },
    {
     "name": "stdout",
     "output_type": "stream",
     "text": [
      "Plotting complete.\n",
      "Plotting figures with \"filter=\"z\" or filter=\"y\"\" constraint now.\n",
      "Plotting complete.\n",
      "Healpix slicer using NSIDE=64, approximate resolution 54.967783 arcminutes\n",
      "Querying database observations with no constraint for columns ['visitExposureTime', 'seeingFwhmGeom', 'fieldDec', 'filter', 'fieldRA', 'fiveSigmaDepth', 'observationStartMJD', 'rotSkyPos'].\n",
      "Found 2085109 visits\n",
      "Running:  ['_sims_maf_fbs_2_0_long_gaps_long_gaps_nightsoff7_delayed1827_v2_0_10yrs_L7_HEAL']\n"
     ]
    },
    {
     "name": "stderr",
     "output_type": "stream",
     "text": [
      "/data0/sw/lsst_stack-2021.10.13/rubin_sim/rubin_sim/maf/utils/astrometryUtils.py:72: RuntimeWarning: divide by zero encountered in true_divide\n",
      "  result = fwhm/(snr)\n",
      "<ipython-input-2-32808caa9442>:60: RuntimeWarning: divide by zero encountered in true_divide\n",
      "  sigma_ra = np.sqrt(1./np.sum(1./sigma_A**2, axis=1))\n",
      "<ipython-input-2-32808caa9442>:61: RuntimeWarning: divide by zero encountered in true_divide\n",
      "  sigma_dec = np.sqrt(1./np.sum(1./sigma_B**2, axis=1))\n",
      "<ipython-input-2-32808caa9442>:63: RuntimeWarning: divide by zero encountered in true_divide\n",
      "  sigma = np.sqrt(1./(1./sigma_ra**2+1./sigma_dec**2))*1e3\n"
     ]
    },
    {
     "name": "stdout",
     "output_type": "stream",
     "text": [
      "Completed metric generation.\n",
      "Running reduce methods.\n",
      "Running summary statistics.\n",
      "Completed.\n",
      "Querying database observations with constraint filter=\"z\" or filter=\"y\" for columns ['seeingFwhmGeom', 'fieldDec', 'altitude', 'filter', 'fieldRA', 'fiveSigmaDepth', 'observationStartLST', 'observationStartMJD', 'rotSkyPos']\n",
      "Found 795726 visits\n",
      "Running:  ['_sims_maf_fbs_2_0_long_gaps_long_gaps_nightsoff7_delayed1827_v2_0_10yrs_ParallaxDcrDegenMetric_z_or_y_HEAL']\n"
     ]
    },
    {
     "name": "stderr",
     "output_type": "stream",
     "text": [
      "0.0 180.0 -180.0 180.0\n"
     ]
    },
    {
     "name": "stdout",
     "output_type": "stream",
     "text": [
      "Completed metric generation.\n",
      "Running reduce methods.\n",
      "Running summary statistics.\n",
      "Completed.\n",
      "Plotting figures with \"\" constraint now.\n"
     ]
    },
    {
     "name": "stderr",
     "output_type": "stream",
     "text": [
      "0.0 180.0 -180.0 180.0\n"
     ]
    },
    {
     "name": "stdout",
     "output_type": "stream",
     "text": [
      "Plotting complete.\n",
      "Plotting figures with \"filter=\"z\" or filter=\"y\"\" constraint now.\n",
      "Plotting complete.\n",
      "Healpix slicer using NSIDE=64, approximate resolution 54.967783 arcminutes\n",
      "Querying database observations with no constraint for columns ['visitExposureTime', 'seeingFwhmGeom', 'fieldDec', 'filter', 'fieldRA', 'fiveSigmaDepth', 'observationStartMJD', 'rotSkyPos'].\n",
      "Found 2028987 visits\n",
      "Running:  ['_sims_maf_fbs_2_0_long_gaps_nopair_long_gaps_np_nightsoff0_delayed-1_v2_0_10yrs_L7_HEAL']\n"
     ]
    },
    {
     "name": "stderr",
     "output_type": "stream",
     "text": [
      "/data0/sw/lsst_stack-2021.10.13/rubin_sim/rubin_sim/maf/utils/astrometryUtils.py:72: RuntimeWarning: divide by zero encountered in true_divide\n",
      "  result = fwhm/(snr)\n",
      "<ipython-input-2-32808caa9442>:60: RuntimeWarning: divide by zero encountered in true_divide\n",
      "  sigma_ra = np.sqrt(1./np.sum(1./sigma_A**2, axis=1))\n",
      "<ipython-input-2-32808caa9442>:61: RuntimeWarning: divide by zero encountered in true_divide\n",
      "  sigma_dec = np.sqrt(1./np.sum(1./sigma_B**2, axis=1))\n",
      "<ipython-input-2-32808caa9442>:63: RuntimeWarning: divide by zero encountered in true_divide\n",
      "  sigma = np.sqrt(1./(1./sigma_ra**2+1./sigma_dec**2))*1e3\n"
     ]
    },
    {
     "name": "stdout",
     "output_type": "stream",
     "text": [
      "Completed metric generation.\n",
      "Running reduce methods.\n",
      "Running summary statistics.\n",
      "Completed.\n",
      "Querying database observations with constraint filter=\"z\" or filter=\"y\" for columns ['seeingFwhmGeom', 'fieldDec', 'altitude', 'filter', 'fieldRA', 'fiveSigmaDepth', 'observationStartLST', 'observationStartMJD', 'rotSkyPos']\n",
      "Found 773284 visits\n",
      "Running:  ['_sims_maf_fbs_2_0_long_gaps_nopair_long_gaps_np_nightsoff0_delayed-1_v2_0_10yrs_ParallaxDcrDegenMetric_z_or_y_HEAL']\n"
     ]
    },
    {
     "name": "stderr",
     "output_type": "stream",
     "text": [
      "0.0 180.0 -180.0 180.0\n"
     ]
    },
    {
     "name": "stdout",
     "output_type": "stream",
     "text": [
      "Completed metric generation.\n",
      "Running reduce methods.\n",
      "Running summary statistics.\n",
      "Completed.\n",
      "Plotting figures with \"\" constraint now.\n"
     ]
    },
    {
     "name": "stderr",
     "output_type": "stream",
     "text": [
      "0.0 180.0 -180.0 180.0\n"
     ]
    },
    {
     "name": "stdout",
     "output_type": "stream",
     "text": [
      "Plotting complete.\n",
      "Plotting figures with \"filter=\"z\" or filter=\"y\"\" constraint now.\n",
      "Plotting complete.\n",
      "Healpix slicer using NSIDE=64, approximate resolution 54.967783 arcminutes\n",
      "Querying database observations with no constraint for columns ['visitExposureTime', 'seeingFwhmGeom', 'fieldDec', 'filter', 'fieldRA', 'fiveSigmaDepth', 'observationStartMJD', 'rotSkyPos'].\n",
      "Found 2059335 visits\n",
      "Running:  ['_sims_maf_fbs_2_0_long_gaps_nopair_long_gaps_np_nightsoff0_delayed1827_v2_0_10yrs_L7_HEAL']\n"
     ]
    },
    {
     "name": "stderr",
     "output_type": "stream",
     "text": [
      "/data0/sw/lsst_stack-2021.10.13/rubin_sim/rubin_sim/maf/utils/astrometryUtils.py:72: RuntimeWarning: divide by zero encountered in true_divide\n",
      "  result = fwhm/(snr)\n",
      "<ipython-input-2-32808caa9442>:60: RuntimeWarning: divide by zero encountered in true_divide\n",
      "  sigma_ra = np.sqrt(1./np.sum(1./sigma_A**2, axis=1))\n",
      "<ipython-input-2-32808caa9442>:61: RuntimeWarning: divide by zero encountered in true_divide\n",
      "  sigma_dec = np.sqrt(1./np.sum(1./sigma_B**2, axis=1))\n",
      "<ipython-input-2-32808caa9442>:63: RuntimeWarning: divide by zero encountered in true_divide\n",
      "  sigma = np.sqrt(1./(1./sigma_ra**2+1./sigma_dec**2))*1e3\n"
     ]
    },
    {
     "name": "stdout",
     "output_type": "stream",
     "text": [
      "Completed metric generation.\n",
      "Running reduce methods.\n",
      "Running summary statistics.\n",
      "Completed.\n",
      "Querying database observations with constraint filter=\"z\" or filter=\"y\" for columns ['seeingFwhmGeom', 'fieldDec', 'altitude', 'filter', 'fieldRA', 'fiveSigmaDepth', 'observationStartLST', 'observationStartMJD', 'rotSkyPos']\n",
      "Found 785538 visits\n",
      "Running:  ['_sims_maf_fbs_2_0_long_gaps_nopair_long_gaps_np_nightsoff0_delayed1827_v2_0_10yrs_ParallaxDcrDegenMetric_z_or_y_HEAL']\n"
     ]
    },
    {
     "name": "stderr",
     "output_type": "stream",
     "text": [
      "0.0 180.0 -180.0 180.0\n"
     ]
    },
    {
     "name": "stdout",
     "output_type": "stream",
     "text": [
      "Completed metric generation.\n",
      "Running reduce methods.\n",
      "Running summary statistics.\n",
      "Completed.\n",
      "Plotting figures with \"\" constraint now.\n"
     ]
    },
    {
     "name": "stderr",
     "output_type": "stream",
     "text": [
      "0.0 180.0 -180.0 180.0\n"
     ]
    },
    {
     "name": "stdout",
     "output_type": "stream",
     "text": [
      "Plotting complete.\n",
      "Plotting figures with \"filter=\"z\" or filter=\"y\"\" constraint now.\n",
      "Plotting complete.\n",
      "Healpix slicer using NSIDE=64, approximate resolution 54.967783 arcminutes\n",
      "Querying database observations with no constraint for columns ['visitExposureTime', 'seeingFwhmGeom', 'fieldDec', 'filter', 'fieldRA', 'fiveSigmaDepth', 'observationStartMJD', 'rotSkyPos'].\n",
      "Found 2064716 visits\n",
      "Running:  ['_sims_maf_fbs_2_0_long_gaps_nopair_long_gaps_np_nightsoff1_delayed-1_v2_0_10yrs_L7_HEAL']\n"
     ]
    },
    {
     "name": "stderr",
     "output_type": "stream",
     "text": [
      "/data0/sw/lsst_stack-2021.10.13/rubin_sim/rubin_sim/maf/utils/astrometryUtils.py:72: RuntimeWarning: divide by zero encountered in true_divide\n",
      "  result = fwhm/(snr)\n",
      "<ipython-input-2-32808caa9442>:60: RuntimeWarning: divide by zero encountered in true_divide\n",
      "  sigma_ra = np.sqrt(1./np.sum(1./sigma_A**2, axis=1))\n",
      "<ipython-input-2-32808caa9442>:61: RuntimeWarning: divide by zero encountered in true_divide\n",
      "  sigma_dec = np.sqrt(1./np.sum(1./sigma_B**2, axis=1))\n",
      "<ipython-input-2-32808caa9442>:63: RuntimeWarning: divide by zero encountered in true_divide\n",
      "  sigma = np.sqrt(1./(1./sigma_ra**2+1./sigma_dec**2))*1e3\n"
     ]
    },
    {
     "name": "stdout",
     "output_type": "stream",
     "text": [
      "Completed metric generation.\n",
      "Running reduce methods.\n",
      "Running summary statistics.\n",
      "Completed.\n",
      "Querying database observations with constraint filter=\"z\" or filter=\"y\" for columns ['seeingFwhmGeom', 'fieldDec', 'altitude', 'filter', 'fieldRA', 'fiveSigmaDepth', 'observationStartLST', 'observationStartMJD', 'rotSkyPos']\n",
      "Found 790879 visits\n",
      "Running:  ['_sims_maf_fbs_2_0_long_gaps_nopair_long_gaps_np_nightsoff1_delayed-1_v2_0_10yrs_ParallaxDcrDegenMetric_z_or_y_HEAL']\n"
     ]
    },
    {
     "name": "stderr",
     "output_type": "stream",
     "text": [
      "0.0 180.0 -180.0 180.0\n"
     ]
    },
    {
     "name": "stdout",
     "output_type": "stream",
     "text": [
      "Completed metric generation.\n",
      "Running reduce methods.\n",
      "Running summary statistics.\n",
      "Completed.\n",
      "Plotting figures with \"\" constraint now.\n"
     ]
    },
    {
     "name": "stderr",
     "output_type": "stream",
     "text": [
      "0.0 180.0 -180.0 180.0\n"
     ]
    },
    {
     "name": "stdout",
     "output_type": "stream",
     "text": [
      "Plotting complete.\n",
      "Plotting figures with \"filter=\"z\" or filter=\"y\"\" constraint now.\n",
      "Plotting complete.\n",
      "Healpix slicer using NSIDE=64, approximate resolution 54.967783 arcminutes\n",
      "Querying database observations with no constraint for columns ['visitExposureTime', 'seeingFwhmGeom', 'fieldDec', 'filter', 'fieldRA', 'fiveSigmaDepth', 'observationStartMJD', 'rotSkyPos'].\n",
      "Found 2075040 visits\n",
      "Running:  ['_sims_maf_fbs_2_0_long_gaps_nopair_long_gaps_np_nightsoff1_delayed1827_v2_0_10yrs_L7_HEAL']\n"
     ]
    }
   ],
   "source": [
    "files = glob.glob('/sims_maf/fbs_2.0/long*/*.db')\n",
    "files.sort()\n",
    "results = []\n",
    "for dbFile in files:\n",
    "    \n",
    "    runName = dbFile.replace('.db', '')\n",
    "    conn = db.OpsimDatabase(dbFile)\n",
    "    \n",
    "    outDir = runName + '_bdvol'\n",
    "    outDir=outDir.replace('/sims_maf/fbs_2.0/',\"BDresults/\")\n",
    "    resultsDb = db.ResultsDb(outDir=outDir)\n",
    "    \n",
    "    nside = 64\n",
    "    bundleList = []\n",
    "    #sql = 'filter=\"z\" or filter=\"y\"'\n",
    "    sql = ''\n",
    "    # Let's plug in the magnitudes for one type\n",
    "    metric = BDParallaxMetric(mags={'i': 20.09, 'z': 18.18, 'y': 17.13}, metricName='L7')\n",
    "    slicer = slicers.HealpixSlicer(nside=nside)\n",
    "    summaryStats = [VolumeSumMetric(nside=nside)]\n",
    "    plotDict = {}\n",
    "    bundleList.append(metricBundles.MetricBundle(metric,slicer,sql, plotDict=plotDict,\n",
    "                                                 summaryMetrics=summaryStats,\n",
    "                                                 runName=runName))\n",
    "    # add DCR degeneracy check...\n",
    "    sql = 'filter=\"z\" or filter=\"y\"'\n",
    "    metric = metrics.ParallaxDcrDegenMetric(SedTemplate='M', rmag=20.)\n",
    "    bundleList.append(metricBundles.MetricBundle(metric,slicer,sql,\n",
    "                                             runName=runName))\n",
    "    \n",
    "    bd = metricBundles.makeBundlesDictFromList(bundleList)\n",
    "    bg = metricBundles.MetricBundleGroup(bd, conn, outDir=outDir, resultsDb=resultsDb)\n",
    "    bg.runAll()\n",
    "    bg.plotAll(closefigs=False)\n",
    "\n",
    "    results.append(bg)"
   ]
  },
  {
   "cell_type": "code",
   "execution_count": null,
   "metadata": {},
   "outputs": [],
   "source": [
    "# Let's see how the total volume changes as we change the footprint\n",
    "for name, result in zip(files, results):\n",
    "    key = list(result.bundleDict.keys())[0]\n",
    "    result.bundleDict[key]\n",
    "    print(name, result.bundleDict[key].summaryValues)"
   ]
  },
  {
   "cell_type": "code",
   "execution_count": null,
   "metadata": {},
   "outputs": [],
   "source": [
    "\n",
    "\n",
    "\n",
    "\n",
    "\n",
    "\n",
    "\n",
    "\n",
    "\n",
    "\n",
    "\n",
    "\n",
    "\n",
    "\n",
    "\n",
    "\n",
    "\n",
    "\n",
    "\n"
   ]
  },
  {
   "cell_type": "code",
   "execution_count": null,
   "metadata": {},
   "outputs": [],
   "source": []
  },
  {
   "cell_type": "code",
   "execution_count": null,
   "metadata": {},
   "outputs": [],
   "source": []
  }
 ],
 "metadata": {
  "kernelspec": {
   "display_name": "LSST-2021.10.13 Py3",
   "language": "python",
   "name": "lsst_sims_maf-2021.10.13"
  },
  "language_info": {
   "codemirror_mode": {
    "name": "ipython",
    "version": 3
   },
   "file_extension": ".py",
   "mimetype": "text/x-python",
   "name": "python",
   "nbconvert_exporter": "python",
   "pygments_lexer": "ipython3",
   "version": "3.8.8"
  }
 },
 "nbformat": 4,
 "nbformat_minor": 4
}
