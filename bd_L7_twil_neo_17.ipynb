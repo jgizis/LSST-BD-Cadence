{
 "cells": [
  {
   "cell_type": "raw",
   "metadata": {},
   "source": [
    "This notebook computes the volume in which we can measure high-quality parallaxes (SNR>10) of ultracool dwarfs (brown dwarfs) for representative spectral type L7 on a variety of cadence simulations. This one does the family of 1.7 twi neo... added a filter to remove the 1s exposures because astrometric accuracy will be much worse for them.  \n",
    "\n",
    "Also, change distances considered to not waste so much time on hopeless cases.\n"
   ]
  },
  {
   "cell_type": "code",
   "execution_count": 1,
   "metadata": {},
   "outputs": [],
   "source": [
    "\n",
    "from lsst.sims.maf.metrics.baseMetric import BaseMetric\n",
    "import lsst.sims.maf.utils as mafUtils\n",
    "import lsst.sims.utils as utils\n",
    "from scipy import interpolate\n",
    "\n",
    "%matplotlib inline\n",
    "import numpy as np\n",
    "import matplotlib.pyplot as plt\n",
    "import healpy as hp\n",
    "\n",
    "import lsst.sims.maf.db as db\n",
    "import lsst.sims.maf.utils as utils\n",
    "import lsst.sims.maf.metrics as metrics\n",
    "import lsst.sims.maf.slicers as slicers\n",
    "import lsst.sims.maf.stackers as stackers\n",
    "import lsst.sims.maf.metricBundles as metricBundles\n",
    "\n",
    "import glob\n"
   ]
  },
  {
   "cell_type": "code",
   "execution_count": 2,
   "metadata": {},
   "outputs": [],
   "source": [
    "# Copy and modify the ParallaxMetric\n",
    "\n",
    "class BDParallaxMetric(BaseMetric):\n",
    "    \"\"\"Calculate the distance to which one could reach a parallax SNR for a given object\n",
    "\n",
    "    Uses columns ra_pi_amp and dec_pi_amp, calculated by the ParallaxFactorStacker.\n",
    "\n",
    "    Parameters\n",
    "    ----------\n",
    "    metricName : str, opt\n",
    "        Default 'parallax'.\n",
    "    m5Col : str, opt\n",
    "        The default column name for m5 information in the input data. Default fiveSigmaDepth.\n",
    "    filterCol : str, opt\n",
    "        The column name for the filter information. Default filter.\n",
    "    seeingCol : str, opt\n",
    "        The column name for the seeing information. Since the astrometry errors are based on the physical\n",
    "        size of the PSF, this should be the FWHM of the physical psf. Default seeingFwhmGeom.\n",
    "    mags : dict\n",
    "        The absolute magnitude of the obeject in question. Keys of filter name, values in mags.\n",
    "    distances : np.array\n",
    "        Distances to try putting the object at (pc).\n",
    "    atm_err : float, opt\n",
    "        The expected centroiding error due to the atmosphere, in arcseconds. Default 0.01.\n",
    "    badval : float, opt\n",
    "        The value to return when the metric value cannot be calculated. Default 0.\n",
    "    \"\"\"\n",
    "    def __init__(self, metricName='bdParallax', m5Col='fiveSigmaDepth',\n",
    "                 filterCol='filter', seeingCol='seeingFwhmGeom',\n",
    "                 badval=0, mags={'z': 18.18, 'y': 17.13}, parallax_snr=10.,\n",
    "                 distances=np.arange(10, 120, 20), \n",
    "                 atm_err=0.01, normalize=False, min_exp_time=15., \n",
    "                 exptimeCol='visitExposureTime', **kwargs):\n",
    "        Cols = [m5Col, filterCol, seeingCol, exptimeCol, 'ra_pi_amp', 'dec_pi_amp']\n",
    "        \n",
    "        units = 'pc'\n",
    "        super(BDParallaxMetric, self).__init__(Cols, metricName=metricName, units=units,\n",
    "                                             badval=badval, **kwargs)\n",
    "        # set return type\n",
    "        self.m5Col = m5Col\n",
    "        self.seeingCol = seeingCol\n",
    "        self.filterCol = filterCol\n",
    "        self.distances = distances\n",
    "        self.exptimeCol = exptimeCol\n",
    "        self.mags = {}\n",
    "        distance_mod = 5.0*np.log10(distances)-5.0\n",
    "        for key in mags:\n",
    "            self.mags[key] = mags[key] + distance_mod\n",
    "        self.parallax_snr_goal = parallax_snr\n",
    "        self.atm_err = atm_err\n",
    "        self.filters = list(self.mags.keys())\n",
    "        self.parallaxes = 1000.0/distances  #mas\n",
    "        self.min_exp_time = min_exp_time\n",
    "        \n",
    "    def _final_sigma(self, position_errors, ra_pi_amp, dec_pi_amp):\n",
    "        \"\"\"Assume parallax in RA and DEC are fit independently, then combined.\n",
    "        All inputs assumed to be arcsec \"\"\"\n",
    "        sigma_A = position_errors/ra_pi_amp\n",
    "        sigma_B = position_errors/dec_pi_amp\n",
    "        sigma_ra = np.sqrt(1./np.sum(1./sigma_A**2, axis=1))\n",
    "        sigma_dec = np.sqrt(1./np.sum(1./sigma_B**2, axis=1))\n",
    "        # Combine RA and Dec uncertainties, convert to mas\n",
    "        sigma = np.sqrt(1./(1./sigma_ra**2+1./sigma_dec**2))*1e3\n",
    "        return sigma\n",
    "\n",
    "    def run(self, dataslice, slicePoint=None):\n",
    "        snr = np.zeros((np.size(self.mags[self.filters[0]]), len(dataslice)), dtype='float')\n",
    "        # compute SNR for all observations\n",
    "        for filt in self.filters:\n",
    "            if self.min_exp_time is not None:\n",
    "                good = np.where((dataslice[self.filterCol] == filt) &\n",
    "                                (dataslice[self.exptimeCol] >= self.min_exp_time))[0]\n",
    "            else:\n",
    "                good = np.where(dataslice[self.filterCol] == filt)[0]\n",
    "            if np.size(good) > 0:\n",
    "                snr[:, good] = mafUtils.m52snr(self.mags[str(filt)][:, np.newaxis],\n",
    "                                               dataslice[self.m5Col][good])\n",
    "                \n",
    "        \n",
    "        position_errors = np.sqrt(mafUtils.astrom_precision(dataslice[self.seeingCol],\n",
    "                                                            snr)**2+self.atm_err**2)\n",
    "        # uncertainty in the parallax in mas\n",
    "        sigma = self._final_sigma(position_errors, dataslice['ra_pi_amp'], dataslice['dec_pi_amp'])\n",
    "        fitted_parallax_snr = self.parallaxes/sigma\n",
    "        result = self.badval\n",
    "        # Let's interpolate to the distance where we would get our target SNR\n",
    "        if np.max(fitted_parallax_snr) >= self.parallax_snr_goal:\n",
    "            f = interpolate.interp1d(fitted_parallax_snr, self.distances, fill_value=\"extrapolate\")\n",
    "            result = f(self.parallax_snr_goal)\n",
    "        return result"
   ]
  },
  {
   "cell_type": "code",
   "execution_count": 3,
   "metadata": {},
   "outputs": [],
   "source": [
    "class VolumeSumMetric(BaseMetric):\n",
    "    \"\"\"Compute the total volume assuming a metric has values of distance\n",
    "    \"\"\"\n",
    "    def __init__(self, col=None, metricName='VolumeSum', nside=None, **kwargs):\n",
    "        super(VolumeSumMetric, self).__init__(col=col, metricName=metricName, **kwargs)\n",
    "        self.pix_area = hp.nside2pixarea(nside)\n",
    "        \n",
    "    def run(self, dataSlice, slicePoint=None):\n",
    "        # volume of sphere, times ratio of pixel area divided by area of sphere\n",
    "        vols = 1./3. * dataSlice[self.colname]**3 * self.pix_area\n",
    "        return np.sum(vols)"
   ]
  },
  {
   "cell_type": "code",
   "execution_count": null,
   "metadata": {},
   "outputs": [
    {
     "name": "stdout",
     "output_type": "stream",
     "text": [
      "Healpix slicer using NSIDE=64, approximate resolution 54.967783 arcminutes\n",
      "Querying database SummaryAllProps with no constraint for columns ['fieldRA', 'visitExposureTime', 'fieldDec', 'observationStartMJD', 'fiveSigmaDepth', 'seeingFwhmGeom', 'filter'].\n"
     ]
    },
    {
     "name": "stderr",
     "output_type": "stream",
     "text": [
      "/data0/lsst_stack/stack/miniconda3-py37_4.8.2-cb4e2dc/Linux64/sims_utils/2.13.0.sims-44-g40e226b+23f78951f2/python/lsst/sims/utils/stellarMags.py:101: FutureWarning: fromrecords expected a list of tuples, may have received a list of lists instead. In the future that will raise an error\n",
      "  dtype=list(zip(names, types)))\n"
     ]
    },
    {
     "name": "stdout",
     "output_type": "stream",
     "text": [
      "Found 3013478 visits\n",
      "Running:  ['_sims_maf_fbs_1_7_twi_neo_twi_neo_pattern1_v1_7_10yrs_L7_HEAL']\n"
     ]
    },
    {
     "name": "stderr",
     "output_type": "stream",
     "text": [
      "/data0/lsst_stack/stack/miniconda3-py37_4.8.2-cb4e2dc/Linux64/sims_maf/2.13.0.sims-61-g3ee711b3+fffdf3dce1/python/lsst/sims/maf/utils/astrometryUtils.py:72: RuntimeWarning: divide by zero encountered in true_divide\n",
      "  result = fwhm/(snr)\n",
      "/data0/lsst_stack/conda/miniconda3-py37_4.8.2/envs/lsst-scipipe-cb4e2dc/lib/python3.7/site-packages/ipykernel/__main__.py:60: RuntimeWarning: divide by zero encountered in true_divide\n",
      "/data0/lsst_stack/conda/miniconda3-py37_4.8.2/envs/lsst-scipipe-cb4e2dc/lib/python3.7/site-packages/ipykernel/__main__.py:61: RuntimeWarning: divide by zero encountered in true_divide\n",
      "/data0/lsst_stack/conda/miniconda3-py37_4.8.2/envs/lsst-scipipe-cb4e2dc/lib/python3.7/site-packages/ipykernel/__main__.py:63: RuntimeWarning: divide by zero encountered in true_divide\n"
     ]
    },
    {
     "name": "stdout",
     "output_type": "stream",
     "text": [
      "Completed metric generation.\n",
      "Running reduce methods.\n",
      "Running summary statistics.\n",
      "Completed.\n",
      "Querying database SummaryAllProps with constraint filter=\"z\" or filter=\"y\" for columns ['fieldRA', 'fieldDec', 'altitude', 'observationStartMJD', 'fiveSigmaDepth', 'seeingFwhmGeom', 'observationStartLST', 'filter']\n",
      "Found 1080821 visits\n",
      "Running:  ['_sims_maf_fbs_1_7_twi_neo_twi_neo_pattern1_v1_7_10yrs_ParallaxDcrDegenMetric_z_or_y_HEAL']\n",
      "Completed metric generation.\n",
      "Running reduce methods.\n",
      "Running summary statistics.\n",
      "Completed.\n",
      "Plotting figures with \"\" constraint now.\n"
     ]
    },
    {
     "name": "stderr",
     "output_type": "stream",
     "text": [
      "/data0/lsst_stack/conda/miniconda3-py37_4.8.2/envs/lsst-scipipe-cb4e2dc/lib/python3.7/site-packages/healpy/pixelfunc.py:1583: UserWarning: monopole: 36.6012  dipole: lon: 86.9349, lat: -82.87, amp: 10.6509\n",
      "  mono, lon, lat, amp\n"
     ]
    },
    {
     "name": "stdout",
     "output_type": "stream",
     "text": [
      "Plotting complete.\n",
      "Plotting figures with \"filter=\"z\" or filter=\"y\"\" constraint now.\n"
     ]
    },
    {
     "name": "stderr",
     "output_type": "stream",
     "text": [
      "/data0/lsst_stack/conda/miniconda3-py37_4.8.2/envs/lsst-scipipe-cb4e2dc/lib/python3.7/site-packages/healpy/pixelfunc.py:1583: UserWarning: monopole: 0.387777  dipole: lon: -80.1277, lat: -59.8525, amp: 0.342505\n",
      "  mono, lon, lat, amp\n"
     ]
    },
    {
     "name": "stdout",
     "output_type": "stream",
     "text": [
      "Plotting complete.\n",
      "Healpix slicer using NSIDE=64, approximate resolution 54.967783 arcminutes\n",
      "Querying database SummaryAllProps with no constraint for columns ['fieldRA', 'visitExposureTime', 'fieldDec', 'observationStartMJD', 'fiveSigmaDepth', 'seeingFwhmGeom', 'filter'].\n",
      "Found 2530695 visits\n",
      "Running:  ['_sims_maf_fbs_1_7_twi_neo_twi_neo_pattern2_v1_7_10yrs_L7_HEAL']\n"
     ]
    },
    {
     "name": "stderr",
     "output_type": "stream",
     "text": [
      "/data0/lsst_stack/stack/miniconda3-py37_4.8.2-cb4e2dc/Linux64/sims_maf/2.13.0.sims-61-g3ee711b3+fffdf3dce1/python/lsst/sims/maf/utils/astrometryUtils.py:72: RuntimeWarning: divide by zero encountered in true_divide\n",
      "  result = fwhm/(snr)\n",
      "/data0/lsst_stack/conda/miniconda3-py37_4.8.2/envs/lsst-scipipe-cb4e2dc/lib/python3.7/site-packages/ipykernel/__main__.py:60: RuntimeWarning: divide by zero encountered in true_divide\n",
      "/data0/lsst_stack/conda/miniconda3-py37_4.8.2/envs/lsst-scipipe-cb4e2dc/lib/python3.7/site-packages/ipykernel/__main__.py:61: RuntimeWarning: divide by zero encountered in true_divide\n",
      "/data0/lsst_stack/conda/miniconda3-py37_4.8.2/envs/lsst-scipipe-cb4e2dc/lib/python3.7/site-packages/ipykernel/__main__.py:63: RuntimeWarning: divide by zero encountered in true_divide\n"
     ]
    },
    {
     "name": "stdout",
     "output_type": "stream",
     "text": [
      "Completed metric generation.\n",
      "Running reduce methods.\n",
      "Running summary statistics.\n",
      "Completed.\n",
      "Querying database SummaryAllProps with constraint filter=\"z\" or filter=\"y\" for columns ['fieldRA', 'fieldDec', 'altitude', 'observationStartMJD', 'fiveSigmaDepth', 'seeingFwhmGeom', 'observationStartLST', 'filter']\n",
      "Found 933438 visits\n",
      "Running:  ['_sims_maf_fbs_1_7_twi_neo_twi_neo_pattern2_v1_7_10yrs_ParallaxDcrDegenMetric_z_or_y_HEAL']\n",
      "Completed metric generation.\n",
      "Running reduce methods.\n",
      "Running summary statistics.\n",
      "Completed.\n",
      "Plotting figures with \"\" constraint now.\n"
     ]
    },
    {
     "name": "stderr",
     "output_type": "stream",
     "text": [
      "/data0/lsst_stack/conda/miniconda3-py37_4.8.2/envs/lsst-scipipe-cb4e2dc/lib/python3.7/site-packages/healpy/pixelfunc.py:1583: UserWarning: monopole: 37.2503  dipole: lon: 90.2849, lat: -82.6748, amp: 10.3123\n",
      "  mono, lon, lat, amp\n"
     ]
    },
    {
     "name": "stdout",
     "output_type": "stream",
     "text": [
      "Plotting complete.\n",
      "Plotting figures with \"filter=\"z\" or filter=\"y\"\" constraint now.\n"
     ]
    },
    {
     "name": "stderr",
     "output_type": "stream",
     "text": [
      "/data0/lsst_stack/conda/miniconda3-py37_4.8.2/envs/lsst-scipipe-cb4e2dc/lib/python3.7/site-packages/healpy/pixelfunc.py:1583: UserWarning: monopole: 0.336657  dipole: lon: -82.9805, lat: -59.0446, amp: 0.35568\n",
      "  mono, lon, lat, amp\n"
     ]
    },
    {
     "name": "stdout",
     "output_type": "stream",
     "text": [
      "Plotting complete.\n",
      "Healpix slicer using NSIDE=64, approximate resolution 54.967783 arcminutes\n",
      "Querying database SummaryAllProps with no constraint for columns ['fieldRA', 'visitExposureTime', 'fieldDec', 'observationStartMJD', 'fiveSigmaDepth', 'seeingFwhmGeom', 'filter'].\n",
      "Found 2369992 visits\n",
      "Running:  ['_sims_maf_fbs_1_7_twi_neo_twi_neo_pattern3_v1_7_10yrs_L7_HEAL']\n"
     ]
    },
    {
     "name": "stderr",
     "output_type": "stream",
     "text": [
      "/data0/lsst_stack/stack/miniconda3-py37_4.8.2-cb4e2dc/Linux64/sims_maf/2.13.0.sims-61-g3ee711b3+fffdf3dce1/python/lsst/sims/maf/utils/astrometryUtils.py:72: RuntimeWarning: divide by zero encountered in true_divide\n",
      "  result = fwhm/(snr)\n",
      "/data0/lsst_stack/conda/miniconda3-py37_4.8.2/envs/lsst-scipipe-cb4e2dc/lib/python3.7/site-packages/ipykernel/__main__.py:60: RuntimeWarning: divide by zero encountered in true_divide\n",
      "/data0/lsst_stack/conda/miniconda3-py37_4.8.2/envs/lsst-scipipe-cb4e2dc/lib/python3.7/site-packages/ipykernel/__main__.py:61: RuntimeWarning: divide by zero encountered in true_divide\n",
      "/data0/lsst_stack/conda/miniconda3-py37_4.8.2/envs/lsst-scipipe-cb4e2dc/lib/python3.7/site-packages/ipykernel/__main__.py:63: RuntimeWarning: divide by zero encountered in true_divide\n"
     ]
    },
    {
     "name": "stdout",
     "output_type": "stream",
     "text": [
      "Completed metric generation.\n",
      "Running reduce methods.\n",
      "Running summary statistics.\n",
      "Completed.\n",
      "Querying database SummaryAllProps with constraint filter=\"z\" or filter=\"y\" for columns ['fieldRA', 'fieldDec', 'altitude', 'observationStartMJD', 'fiveSigmaDepth', 'seeingFwhmGeom', 'observationStartLST', 'filter']\n",
      "Found 883077 visits\n",
      "Running:  ['_sims_maf_fbs_1_7_twi_neo_twi_neo_pattern3_v1_7_10yrs_ParallaxDcrDegenMetric_z_or_y_HEAL']\n",
      "Completed metric generation.\n",
      "Running reduce methods.\n",
      "Running summary statistics.\n",
      "Completed.\n",
      "Plotting figures with \"\" constraint now.\n"
     ]
    },
    {
     "name": "stderr",
     "output_type": "stream",
     "text": [
      "/data0/lsst_stack/conda/miniconda3-py37_4.8.2/envs/lsst-scipipe-cb4e2dc/lib/python3.7/site-packages/healpy/pixelfunc.py:1583: UserWarning: monopole: 37.3672  dipole: lon: 91.3293, lat: -82.6372, amp: 10.505\n",
      "  mono, lon, lat, amp\n"
     ]
    },
    {
     "name": "stdout",
     "output_type": "stream",
     "text": [
      "Plotting complete.\n",
      "Plotting figures with \"filter=\"z\" or filter=\"y\"\" constraint now.\n"
     ]
    },
    {
     "name": "stderr",
     "output_type": "stream",
     "text": [
      "/data0/lsst_stack/conda/miniconda3-py37_4.8.2/envs/lsst-scipipe-cb4e2dc/lib/python3.7/site-packages/healpy/pixelfunc.py:1583: UserWarning: monopole: 0.320357  dipole: lon: -83.7625, lat: -59.7327, amp: 0.366922\n",
      "  mono, lon, lat, amp\n"
     ]
    },
    {
     "name": "stdout",
     "output_type": "stream",
     "text": [
      "Plotting complete.\n",
      "Healpix slicer using NSIDE=64, approximate resolution 54.967783 arcminutes\n",
      "Querying database SummaryAllProps with no constraint for columns ['fieldRA', 'visitExposureTime', 'fieldDec', 'observationStartMJD', 'fiveSigmaDepth', 'seeingFwhmGeom', 'filter'].\n",
      "Found 2280826 visits\n",
      "Running:  ['_sims_maf_fbs_1_7_twi_neo_twi_neo_pattern4_v1_7_10yrs_L7_HEAL']\n"
     ]
    },
    {
     "name": "stderr",
     "output_type": "stream",
     "text": [
      "/data0/lsst_stack/stack/miniconda3-py37_4.8.2-cb4e2dc/Linux64/sims_maf/2.13.0.sims-61-g3ee711b3+fffdf3dce1/python/lsst/sims/maf/utils/astrometryUtils.py:72: RuntimeWarning: divide by zero encountered in true_divide\n",
      "  result = fwhm/(snr)\n",
      "/data0/lsst_stack/conda/miniconda3-py37_4.8.2/envs/lsst-scipipe-cb4e2dc/lib/python3.7/site-packages/ipykernel/__main__.py:60: RuntimeWarning: divide by zero encountered in true_divide\n",
      "/data0/lsst_stack/conda/miniconda3-py37_4.8.2/envs/lsst-scipipe-cb4e2dc/lib/python3.7/site-packages/ipykernel/__main__.py:61: RuntimeWarning: divide by zero encountered in true_divide\n",
      "/data0/lsst_stack/conda/miniconda3-py37_4.8.2/envs/lsst-scipipe-cb4e2dc/lib/python3.7/site-packages/ipykernel/__main__.py:63: RuntimeWarning: divide by zero encountered in true_divide\n"
     ]
    },
    {
     "name": "stdout",
     "output_type": "stream",
     "text": [
      "Completed metric generation.\n",
      "Running reduce methods.\n",
      "Running summary statistics.\n",
      "Completed.\n",
      "Querying database SummaryAllProps with constraint filter=\"z\" or filter=\"y\" for columns ['fieldRA', 'fieldDec', 'altitude', 'observationStartMJD', 'fiveSigmaDepth', 'seeingFwhmGeom', 'observationStartLST', 'filter']\n",
      "Found 857815 visits\n",
      "Running:  ['_sims_maf_fbs_1_7_twi_neo_twi_neo_pattern4_v1_7_10yrs_ParallaxDcrDegenMetric_z_or_y_HEAL']\n",
      "Completed metric generation.\n",
      "Running reduce methods.\n",
      "Running summary statistics.\n",
      "Completed.\n",
      "Plotting figures with \"\" constraint now.\n"
     ]
    },
    {
     "name": "stderr",
     "output_type": "stream",
     "text": [
      "/data0/lsst_stack/conda/miniconda3-py37_4.8.2/envs/lsst-scipipe-cb4e2dc/lib/python3.7/site-packages/matplotlib/pyplot.py:514: RuntimeWarning: More than 20 figures have been opened. Figures created through the pyplot interface (`matplotlib.pyplot.figure`) are retained until explicitly closed and may consume too much memory. (To control this warning, see the rcParam `figure.max_open_warning`).\n",
      "  max_open_warning, RuntimeWarning)\n",
      "/data0/lsst_stack/conda/miniconda3-py37_4.8.2/envs/lsst-scipipe-cb4e2dc/lib/python3.7/site-packages/healpy/pixelfunc.py:1583: UserWarning: monopole: 37.5173  dipole: lon: 93.2735, lat: -82.6448, amp: 10.3106\n",
      "  mono, lon, lat, amp\n"
     ]
    },
    {
     "name": "stdout",
     "output_type": "stream",
     "text": [
      "Plotting complete.\n",
      "Plotting figures with \"filter=\"z\" or filter=\"y\"\" constraint now.\n"
     ]
    },
    {
     "name": "stderr",
     "output_type": "stream",
     "text": [
      "/data0/lsst_stack/conda/miniconda3-py37_4.8.2/envs/lsst-scipipe-cb4e2dc/lib/python3.7/site-packages/matplotlib/pyplot.py:514: RuntimeWarning: More than 20 figures have been opened. Figures created through the pyplot interface (`matplotlib.pyplot.figure`) are retained until explicitly closed and may consume too much memory. (To control this warning, see the rcParam `figure.max_open_warning`).\n",
      "  max_open_warning, RuntimeWarning)\n",
      "/data0/lsst_stack/conda/miniconda3-py37_4.8.2/envs/lsst-scipipe-cb4e2dc/lib/python3.7/site-packages/healpy/pixelfunc.py:1583: UserWarning: monopole: 0.312623  dipole: lon: -82.6599, lat: -60.7444, amp: 0.372264\n",
      "  mono, lon, lat, amp\n"
     ]
    },
    {
     "name": "stdout",
     "output_type": "stream",
     "text": [
      "Plotting complete.\n",
      "Healpix slicer using NSIDE=64, approximate resolution 54.967783 arcminutes\n",
      "Querying database SummaryAllProps with no constraint for columns ['fieldRA', 'visitExposureTime', 'fieldDec', 'observationStartMJD', 'fiveSigmaDepth', 'seeingFwhmGeom', 'filter'].\n",
      "Found 2533291 visits\n",
      "Running:  ['_sims_maf_fbs_1_7_twi_neo_twi_neo_pattern5_v1_7_10yrs_L7_HEAL']\n"
     ]
    },
    {
     "name": "stderr",
     "output_type": "stream",
     "text": [
      "/data0/lsst_stack/stack/miniconda3-py37_4.8.2-cb4e2dc/Linux64/sims_maf/2.13.0.sims-61-g3ee711b3+fffdf3dce1/python/lsst/sims/maf/utils/astrometryUtils.py:72: RuntimeWarning: divide by zero encountered in true_divide\n",
      "  result = fwhm/(snr)\n",
      "/data0/lsst_stack/conda/miniconda3-py37_4.8.2/envs/lsst-scipipe-cb4e2dc/lib/python3.7/site-packages/ipykernel/__main__.py:60: RuntimeWarning: divide by zero encountered in true_divide\n",
      "/data0/lsst_stack/conda/miniconda3-py37_4.8.2/envs/lsst-scipipe-cb4e2dc/lib/python3.7/site-packages/ipykernel/__main__.py:61: RuntimeWarning: divide by zero encountered in true_divide\n",
      "/data0/lsst_stack/conda/miniconda3-py37_4.8.2/envs/lsst-scipipe-cb4e2dc/lib/python3.7/site-packages/ipykernel/__main__.py:63: RuntimeWarning: divide by zero encountered in true_divide\n"
     ]
    },
    {
     "name": "stdout",
     "output_type": "stream",
     "text": [
      "Completed metric generation.\n",
      "Running reduce methods.\n",
      "Running summary statistics.\n",
      "Completed.\n",
      "Querying database SummaryAllProps with constraint filter=\"z\" or filter=\"y\" for columns ['fieldRA', 'fieldDec', 'altitude', 'observationStartMJD', 'fiveSigmaDepth', 'seeingFwhmGeom', 'observationStartLST', 'filter']\n",
      "Found 930512 visits\n",
      "Running:  ['_sims_maf_fbs_1_7_twi_neo_twi_neo_pattern5_v1_7_10yrs_ParallaxDcrDegenMetric_z_or_y_HEAL']\n",
      "Completed metric generation.\n",
      "Running reduce methods.\n",
      "Running summary statistics.\n",
      "Completed.\n",
      "Plotting figures with \"\" constraint now.\n"
     ]
    },
    {
     "name": "stderr",
     "output_type": "stream",
     "text": [
      "/data0/lsst_stack/conda/miniconda3-py37_4.8.2/envs/lsst-scipipe-cb4e2dc/lib/python3.7/site-packages/matplotlib/pyplot.py:514: RuntimeWarning: More than 20 figures have been opened. Figures created through the pyplot interface (`matplotlib.pyplot.figure`) are retained until explicitly closed and may consume too much memory. (To control this warning, see the rcParam `figure.max_open_warning`).\n",
      "  max_open_warning, RuntimeWarning)\n",
      "/data0/lsst_stack/conda/miniconda3-py37_4.8.2/envs/lsst-scipipe-cb4e2dc/lib/python3.7/site-packages/healpy/pixelfunc.py:1583: UserWarning: monopole: 37.2261  dipole: lon: 93.6547, lat: -82.9021, amp: 10.5316\n",
      "  mono, lon, lat, amp\n"
     ]
    },
    {
     "name": "stdout",
     "output_type": "stream",
     "text": [
      "Plotting complete.\n",
      "Plotting figures with \"filter=\"z\" or filter=\"y\"\" constraint now.\n"
     ]
    },
    {
     "name": "stderr",
     "output_type": "stream",
     "text": [
      "/data0/lsst_stack/conda/miniconda3-py37_4.8.2/envs/lsst-scipipe-cb4e2dc/lib/python3.7/site-packages/matplotlib/pyplot.py:514: RuntimeWarning: More than 20 figures have been opened. Figures created through the pyplot interface (`matplotlib.pyplot.figure`) are retained until explicitly closed and may consume too much memory. (To control this warning, see the rcParam `figure.max_open_warning`).\n",
      "  max_open_warning, RuntimeWarning)\n",
      "/data0/lsst_stack/conda/miniconda3-py37_4.8.2/envs/lsst-scipipe-cb4e2dc/lib/python3.7/site-packages/healpy/pixelfunc.py:1583: UserWarning: monopole: 0.339445  dipole: lon: -81.5392, lat: -60.2586, amp: 0.363698\n",
      "  mono, lon, lat, amp\n"
     ]
    },
    {
     "name": "stdout",
     "output_type": "stream",
     "text": [
      "Plotting complete.\n",
      "Healpix slicer using NSIDE=64, approximate resolution 54.967783 arcminutes\n",
      "Querying database SummaryAllProps with no constraint for columns ['fieldRA', 'visitExposureTime', 'fieldDec', 'observationStartMJD', 'fiveSigmaDepth', 'seeingFwhmGeom', 'filter'].\n",
      "Found 2470434 visits\n",
      "Running:  ['_sims_maf_fbs_1_7_twi_neo_twi_neo_pattern6_v1_7_10yrs_L7_HEAL']\n"
     ]
    },
    {
     "name": "stderr",
     "output_type": "stream",
     "text": [
      "/data0/lsst_stack/stack/miniconda3-py37_4.8.2-cb4e2dc/Linux64/sims_maf/2.13.0.sims-61-g3ee711b3+fffdf3dce1/python/lsst/sims/maf/utils/astrometryUtils.py:72: RuntimeWarning: divide by zero encountered in true_divide\n",
      "  result = fwhm/(snr)\n",
      "/data0/lsst_stack/conda/miniconda3-py37_4.8.2/envs/lsst-scipipe-cb4e2dc/lib/python3.7/site-packages/ipykernel/__main__.py:60: RuntimeWarning: divide by zero encountered in true_divide\n",
      "/data0/lsst_stack/conda/miniconda3-py37_4.8.2/envs/lsst-scipipe-cb4e2dc/lib/python3.7/site-packages/ipykernel/__main__.py:61: RuntimeWarning: divide by zero encountered in true_divide\n",
      "/data0/lsst_stack/conda/miniconda3-py37_4.8.2/envs/lsst-scipipe-cb4e2dc/lib/python3.7/site-packages/ipykernel/__main__.py:63: RuntimeWarning: divide by zero encountered in true_divide\n"
     ]
    },
    {
     "name": "stdout",
     "output_type": "stream",
     "text": [
      "Completed metric generation.\n",
      "Running reduce methods.\n",
      "Running summary statistics.\n",
      "Completed.\n",
      "Querying database SummaryAllProps with constraint filter=\"z\" or filter=\"y\" for columns ['fieldRA', 'fieldDec', 'altitude', 'observationStartMJD', 'fiveSigmaDepth', 'seeingFwhmGeom', 'observationStartLST', 'filter']\n",
      "Found 910751 visits\n",
      "Running:  ['_sims_maf_fbs_1_7_twi_neo_twi_neo_pattern6_v1_7_10yrs_ParallaxDcrDegenMetric_z_or_y_HEAL']\n",
      "Completed metric generation.\n",
      "Running reduce methods.\n",
      "Running summary statistics.\n",
      "Completed.\n",
      "Plotting figures with \"\" constraint now.\n"
     ]
    },
    {
     "name": "stderr",
     "output_type": "stream",
     "text": [
      "/data0/lsst_stack/conda/miniconda3-py37_4.8.2/envs/lsst-scipipe-cb4e2dc/lib/python3.7/site-packages/matplotlib/pyplot.py:514: RuntimeWarning: More than 20 figures have been opened. Figures created through the pyplot interface (`matplotlib.pyplot.figure`) are retained until explicitly closed and may consume too much memory. (To control this warning, see the rcParam `figure.max_open_warning`).\n",
      "  max_open_warning, RuntimeWarning)\n",
      "/data0/lsst_stack/conda/miniconda3-py37_4.8.2/envs/lsst-scipipe-cb4e2dc/lib/python3.7/site-packages/healpy/pixelfunc.py:1583: UserWarning: monopole: 37.2818  dipole: lon: 90.4748, lat: -82.5503, amp: 10.4173\n",
      "  mono, lon, lat, amp\n"
     ]
    },
    {
     "name": "stdout",
     "output_type": "stream",
     "text": [
      "Plotting complete.\n",
      "Plotting figures with \"filter=\"z\" or filter=\"y\"\" constraint now.\n"
     ]
    },
    {
     "name": "stderr",
     "output_type": "stream",
     "text": [
      "/data0/lsst_stack/conda/miniconda3-py37_4.8.2/envs/lsst-scipipe-cb4e2dc/lib/python3.7/site-packages/matplotlib/pyplot.py:514: RuntimeWarning: More than 20 figures have been opened. Figures created through the pyplot interface (`matplotlib.pyplot.figure`) are retained until explicitly closed and may consume too much memory. (To control this warning, see the rcParam `figure.max_open_warning`).\n",
      "  max_open_warning, RuntimeWarning)\n",
      "/data0/lsst_stack/conda/miniconda3-py37_4.8.2/envs/lsst-scipipe-cb4e2dc/lib/python3.7/site-packages/healpy/pixelfunc.py:1583: UserWarning: monopole: 0.332131  dipole: lon: -80.8265, lat: -60.0376, amp: 0.365616\n",
      "  mono, lon, lat, amp\n"
     ]
    },
    {
     "name": "stdout",
     "output_type": "stream",
     "text": [
      "Plotting complete.\n",
      "Healpix slicer using NSIDE=64, approximate resolution 54.967783 arcminutes\n",
      "Querying database SummaryAllProps with no constraint for columns ['fieldRA', 'visitExposureTime', 'fieldDec', 'observationStartMJD', 'fiveSigmaDepth', 'seeingFwhmGeom', 'filter'].\n",
      "Found 2367226 visits\n",
      "Running:  ['_sims_maf_fbs_1_7_twi_neo_twi_neo_pattern7_v1_7_10yrs_L7_HEAL']\n"
     ]
    }
   ],
   "source": [
    "files = glob.glob('/sims_maf/fbs_1.7/twi_neo/*.db')\n",
    "files.sort()\n",
    "results = []\n",
    "for dbFile in files:\n",
    "    \n",
    "    runName = dbFile.replace('.db', '')\n",
    "    conn = db.OpsimDatabase(dbFile)\n",
    "    \n",
    "    outDir = runName + '_bdvol'\n",
    "    outDir=outDir.replace('/sims_maf/fbs_1.7/twi_neo/',\"BDresults/\")\n",
    "    resultsDb = db.ResultsDb(outDir=outDir)\n",
    "    \n",
    "    nside = 64\n",
    "    bundleList = []\n",
    "    #sql = 'filter=\"z\" or filter=\"y\"'\n",
    "    sql = ''\n",
    "    # Let's plug in the magnitudes for one type\n",
    "    metric = BDParallaxMetric(mags={'i': 20.09, 'z': 18.18, 'y': 17.13}, metricName='L7')\n",
    "    slicer = slicers.HealpixSlicer(nside=nside)\n",
    "    summaryStats = [VolumeSumMetric(nside=nside)]\n",
    "    plotDict = {}\n",
    "    bundleList.append(metricBundles.MetricBundle(metric,slicer,sql, plotDict=plotDict,\n",
    "                                                 summaryMetrics=summaryStats,\n",
    "                                                 runName=runName))\n",
    "    # add DCR degeneracy check...\n",
    "    sql = 'filter=\"z\" or filter=\"y\"'\n",
    "    metric = metrics.ParallaxDcrDegenMetric(SedTemplate='M', rmag=20.)\n",
    "    bundleList.append(metricBundles.MetricBundle(metric,slicer,sql,\n",
    "                                             runName=runName))\n",
    "    \n",
    "    bd = metricBundles.makeBundlesDictFromList(bundleList)\n",
    "    bg = metricBundles.MetricBundleGroup(bd, conn, outDir=outDir, resultsDb=resultsDb)\n",
    "    bg.runAll()\n",
    "    bg.plotAll(closefigs=False)\n",
    "\n",
    "    results.append(bg)"
   ]
  },
  {
   "cell_type": "code",
   "execution_count": null,
   "metadata": {},
   "outputs": [],
   "source": [
    "# Let's see how the total volume changes as we change the footprint\n",
    "for name, result in zip(files, results):\n",
    "    key = list(result.bundleDict.keys())[0]\n",
    "    result.bundleDict[key]\n",
    "    print(name, result.bundleDict[key].summaryValues)"
   ]
  },
  {
   "cell_type": "code",
   "execution_count": null,
   "metadata": {},
   "outputs": [],
   "source": [
    "\n",
    "\n",
    "\n",
    "\n",
    "\n",
    "\n"
   ]
  }
 ],
 "metadata": {
  "kernelspec": {
   "display_name": "LSST SIMS MAF (Py3, w.2020.45)",
   "language": "python",
   "name": "lsst_sims_maf-w.2020.45"
  },
  "language_info": {
   "codemirror_mode": {
    "name": "ipython",
    "version": 3
   },
   "file_extension": ".py",
   "mimetype": "text/x-python",
   "name": "python",
   "nbconvert_exporter": "python",
   "pygments_lexer": "ipython3",
   "version": "3.7.8"
  }
 },
 "nbformat": 4,
 "nbformat_minor": 4
}
