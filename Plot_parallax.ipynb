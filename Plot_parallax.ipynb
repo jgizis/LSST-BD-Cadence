{
 "cells": [
  {
   "cell_type": "markdown",
   "metadata": {},
   "source": [
    "Plot parallax data\n",
    "\n",
    "Files etc. created by notebook like parallax_plot_example.ipynb\n",
    "\n",
    "By John Gizis and based on Peter Yoachim's work.  "
   ]
  },
  {
   "cell_type": "code",
   "execution_count": null,
   "metadata": {},
   "outputs": [],
   "source": [
    "import numpy as np\n",
    "import matplotlib.pyplot as plt\n",
    "from astropy.io import ascii\n",
    "from astropy.table import QTable, Table, Column\n",
    "from astropy import units as u\n",
    "from astropy.time import Time"
   ]
  },
  {
   "cell_type": "code",
   "execution_count": null,
   "metadata": {},
   "outputs": [],
   "source": [
    "datafilename = 'data_parallax_0_-20.csv'\n",
    "ra0= 0\n",
    "dec0 = -20\n",
    "\n",
    "#Elias S1\n",
    "#datafilename= 'data_base20_ddf_parallax_9.45_-44.csv'\n",
    "#ra0= 9.45\n",
    "#dec0 = -44\n",
    "\n",
    "#Chandra\n",
    "#datafilename = 'data_base17_ddf_parallax_150.1_2.18.csv'\n",
    "#ra0=150.1\n",
    "#dec0=2.18"
   ]
  },
  {
   "cell_type": "code",
   "execution_count": null,
   "metadata": {},
   "outputs": [],
   "source": [
    "parallax_data=ascii.read(datafilename)"
   ]
  },
  {
   "cell_type": "code",
   "execution_count": null,
   "metadata": {},
   "outputs": [],
   "source": [
    "parallax_data"
   ]
  },
  {
   "cell_type": "code",
   "execution_count": null,
   "metadata": {},
   "outputs": [],
   "source": [
    "izy = np.where((parallax_data['filter'] == 'z')|(parallax_data['filter'] == 'y'))\n",
    "iz = np.where(parallax_data['filter'] == 'z')\n",
    "iy = np.where(parallax_data['filter'] == 'y')\n",
    "ii = np.where(parallax_data['filter'] == 'i')\n",
    "\n",
    "            "
   ]
  },
  {
   "cell_type": "code",
   "execution_count": null,
   "metadata": {},
   "outputs": [],
   "source": [
    "days_since_start = parallax_data['MJD'] - np.min(parallax_data['MJD'])\n",
    "survey_start_mjd = np.min(parallax_data['MJD'])\n",
    "tm_start = Time(survey_start_mjd, scale='tt', format='mjd')\n",
    "tm_2022 = Time('2022-01-01T00:00:00.00',format='isot')\n",
    "\n",
    "\n",
    "years_since_start = days_since_start / 365.25636        #am I using right length of year? \n",
    "phase_years = years_since_start % 1\n",
    "\n",
    "#also compute phase in terms of time since January 1, 2022, so that they match calendar years\n",
    "years_since_2022 = (parallax_data['MJD']-tm_2022.mjd) / 365.25636\n",
    "phase_years_2022 = years_since_2022 % 1\n",
    "\n"
   ]
  },
  {
   "cell_type": "code",
   "execution_count": null,
   "metadata": {},
   "outputs": [],
   "source": [
    "plot_base = \"\"\"parallax_base20ddf_{plottype}_{ra}_{dec}.{ftype}\"\"\"\n"
   ]
  },
  {
   "cell_type": "code",
   "execution_count": null,
   "metadata": {},
   "outputs": [],
   "source": [
    "plt.plot(parallax_data['MJD'][iz],parallax_data['ra_pi_amp'][iz],'o',color='blue',alpha=0.02,label='z')\n",
    "plt.plot(parallax_data['MJD'][iy],parallax_data['ra_pi_amp'][iy],'o',color='red',alpha=0.02,label='y')\n",
    "plt.xlabel('MJD (days)')\n",
    "plt.ylabel('RA Parallax Factor')   \n",
    "plt.legend()\n",
    "plotname=plot_base.format(plottype='MJD_RAP',ra=ra0,dec=dec0,ftype='pdf')\n",
    "plt.savefig(plotname)"
   ]
  },
  {
   "cell_type": "code",
   "execution_count": null,
   "metadata": {},
   "outputs": [],
   "source": [
    "plt.plot(phase_years_2022[iz],parallax_data['ra_pi_amp'][iz],'o',color='blue',alpha=0.02,label='z')\n",
    "plt.plot(phase_years_2022[iy],parallax_data['ra_pi_amp'][iy],'o',color='red',alpha=0.02,label='y')\n",
    "plt.xlim(0,1.0)\n",
    "plt.xlabel('Phase')\n",
    "plt.ylabel('RA Parallax Factor')\n",
    "plt.legend()\n",
    "plotname=plot_base.format(plottype='Phase_PF',ra=ra0,dec=dec0,ftype='pdf')\n",
    "plt.savefig(plotname);\n"
   ]
  },
  {
   "cell_type": "code",
   "execution_count": null,
   "metadata": {},
   "outputs": [],
   "source": [
    "plt.hist(parallax_data['ra_pi_amp'],bins=20,histtype='stepfilled', alpha=0.2, density=True)\n"
   ]
  },
  {
   "cell_type": "code",
   "execution_count": null,
   "metadata": {},
   "outputs": [],
   "source": [
    "fig,(axs1,axs2) = plt.subplots(2, sharex=False, sharey=True)\n",
    "\n",
    "axs2.plot(parallax_data['MJD'][iz],parallax_data['ra_pi_amp'][iz],'o',color='blue',alpha=0.2,label='z')\n",
    "axs2.plot(parallax_data['MJD'][iy],parallax_data['ra_pi_amp'][iy],'o',color='red',alpha=0.2,label='y')\n",
    "#\n",
    "axs1.plot(phase_years_2022[iz],parallax_data['ra_pi_amp'][iz],'o',color='blue',alpha=0.2,label='z')\n",
    "axs1.plot(phase_years_2022[iy],parallax_data['ra_pi_amp'][iy],'o',color='red',alpha=0.2,label='y')\n",
    "\n",
    "axs1.set_xlabel('Phase (yr)')\n",
    "axs2.set_xlabel('Date (MJD)')\n",
    "axs1.set_ylim(-1,1)\n",
    "axs1.set_ylabel('RA Parallax Factor')\n",
    "axs2.set_ylabel('RA Parallax Factor')\n",
    "axs1.set_xlim(0,1)\n",
    "axs1.legend()\n",
    "plt.tight_layout()\n",
    "fig.savefig('parallax_example.pdf');\n",
    "\n",
    "\n"
   ]
  },
  {
   "cell_type": "code",
   "execution_count": null,
   "metadata": {},
   "outputs": [],
   "source": []
  },
  {
   "cell_type": "code",
   "execution_count": null,
   "metadata": {},
   "outputs": [],
   "source": []
  },
  {
   "cell_type": "code",
   "execution_count": null,
   "metadata": {},
   "outputs": [],
   "source": []
  }
 ],
 "metadata": {
  "kernelspec": {
   "display_name": "Python 3",
   "language": "python",
   "name": "python3"
  },
  "language_info": {
   "codemirror_mode": {
    "name": "ipython",
    "version": 3
   },
   "file_extension": ".py",
   "mimetype": "text/x-python",
   "name": "python",
   "nbconvert_exporter": "python",
   "pygments_lexer": "ipython3",
   "version": "3.7.7"
  }
 },
 "nbformat": 4,
 "nbformat_minor": 4
}
