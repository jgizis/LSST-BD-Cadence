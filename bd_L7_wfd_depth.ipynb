{
 "cells": [
  {
   "cell_type": "markdown",
   "metadata": {},
   "source": [
    "This notebook computes the volume in which we can measure high-quality parallaxes (SNR>10) of ultracool dwarfs (brown dwarfs) for representative spectral type L7 on a variety of cadence simulations. This one does the family of 1.5 WFD Depth simulations..."
   ]
  },
  {
   "cell_type": "code",
   "execution_count": 1,
   "metadata": {},
   "outputs": [],
   "source": [
    "\n",
    "from lsst.sims.maf.metrics.baseMetric import BaseMetric\n",
    "import lsst.sims.maf.utils as mafUtils\n",
    "import lsst.sims.utils as utils\n",
    "from scipy import interpolate\n",
    "\n",
    "%matplotlib inline\n",
    "import numpy as np\n",
    "import matplotlib.pyplot as plt\n",
    "import healpy as hp\n",
    "\n",
    "import lsst.sims.maf.db as db\n",
    "import lsst.sims.maf.utils as utils\n",
    "import lsst.sims.maf.metrics as metrics\n",
    "import lsst.sims.maf.slicers as slicers\n",
    "import lsst.sims.maf.stackers as stackers\n",
    "import lsst.sims.maf.metricBundles as metricBundles\n",
    "\n",
    "import glob\n"
   ]
  },
  {
   "cell_type": "code",
   "execution_count": 2,
   "metadata": {},
   "outputs": [],
   "source": [
    "# Copy and modify the ParallaxMetric\n",
    "\n",
    "class BDParallaxMetric(BaseMetric):\n",
    "    \"\"\"Calculate the distance to which one could reach a parallax SNR for a given object\n",
    "\n",
    "    Uses columns ra_pi_amp and dec_pi_amp, calculated by the ParallaxFactorStacker.\n",
    "\n",
    "    Parameters\n",
    "    ----------\n",
    "    metricName : str, opt\n",
    "        Default 'parallax'.\n",
    "    m5Col : str, opt\n",
    "        The default column name for m5 information in the input data. Default fiveSigmaDepth.\n",
    "    filterCol : str, opt\n",
    "        The column name for the filter information. Default filter.\n",
    "    seeingCol : str, opt\n",
    "        The column name for the seeing information. Since the astrometry errors are based on the physical\n",
    "        size of the PSF, this should be the FWHM of the physical psf. Default seeingFwhmGeom.\n",
    "    mags : dict\n",
    "        The absolute magnitude of the obeject in question. Keys of filter name, values in mags.\n",
    "    distances : np.array\n",
    "        Distances to try putting the object at (pc).\n",
    "    atm_err : float, opt\n",
    "        The expected centroiding error due to the atmosphere, in arcseconds. Default 0.01.\n",
    "    badval : float, opt\n",
    "        The value to return when the metric value cannot be calculated. Default 0.\n",
    "    \"\"\"\n",
    "    def __init__(self, metricName='bdParallax', m5Col='fiveSigmaDepth',\n",
    "                 filterCol='filter', seeingCol='seeingFwhmGeom',\n",
    "                 badval=0, mags={'z': 18.18, 'y': 17.13}, parallax_snr=10.,\n",
    "                 distances=np.arange(10, 500, 20),\n",
    "                 atm_err=0.01, normalize=False, **kwargs):\n",
    "        Cols = [m5Col, filterCol, seeingCol, 'ra_pi_amp', 'dec_pi_amp']\n",
    "        \n",
    "        units = 'pc'\n",
    "        super(BDParallaxMetric, self).__init__(Cols, metricName=metricName, units=units,\n",
    "                                             badval=badval, **kwargs)\n",
    "        # set return type\n",
    "        self.m5Col = m5Col\n",
    "        self.seeingCol = seeingCol\n",
    "        self.filterCol = filterCol\n",
    "        self.distances = distances\n",
    "        self.mags = {}\n",
    "        distance_mod = 5.0*np.log10(distances)-5.0\n",
    "        for key in mags:\n",
    "            self.mags[key] = mags[key] + distance_mod\n",
    "        self.parallax_snr_goal = parallax_snr\n",
    "        self.atm_err = atm_err\n",
    "        self.filters = list(self.mags.keys())\n",
    "        self.parallaxes = 1000.0/distances  #mas\n",
    "        \n",
    "    def _final_sigma(self, position_errors, ra_pi_amp, dec_pi_amp):\n",
    "        \"\"\"Assume parallax in RA and DEC are fit independently, then combined.\n",
    "        All inputs assumed to be arcsec \"\"\"\n",
    "        sigma_A = position_errors/ra_pi_amp\n",
    "        sigma_B = position_errors/dec_pi_amp\n",
    "        sigma_ra = np.sqrt(1./np.sum(1./sigma_A**2, axis=1))\n",
    "        sigma_dec = np.sqrt(1./np.sum(1./sigma_B**2, axis=1))\n",
    "        # Combine RA and Dec uncertainties, convert to mas\n",
    "        sigma = np.sqrt(1./(1./sigma_ra**2+1./sigma_dec**2))*1e3\n",
    "        return sigma\n",
    "\n",
    "    def run(self, dataslice, slicePoint=None):\n",
    "        snr = np.zeros((np.size(self.mags[self.filters[0]]), len(dataslice)), dtype='float')\n",
    "        # compute SNR for all observations\n",
    "        for filt in self.filters:\n",
    "            good = np.where(dataslice[self.filterCol] == filt)[0]\n",
    "            if np.size(good) > 0:\n",
    "                snr[:, good] = mafUtils.m52snr(self.mags[str(filt)][:, np.newaxis],\n",
    "                                               dataslice[self.m5Col][good])\n",
    "                \n",
    "        \n",
    "        position_errors = np.sqrt(mafUtils.astrom_precision(dataslice[self.seeingCol],\n",
    "                                                            snr)**2+self.atm_err**2)\n",
    "        # uncertainty in the parallax in mas\n",
    "        sigma = self._final_sigma(position_errors, dataslice['ra_pi_amp'], dataslice['dec_pi_amp'])\n",
    "        fitted_parallax_snr = self.parallaxes/sigma\n",
    "        result = self.badval\n",
    "        # Let's interpolate to the distance where we would get our target SNR\n",
    "        if np.max(fitted_parallax_snr) >= self.parallax_snr_goal:\n",
    "            f = interpolate.interp1d(fitted_parallax_snr, self.distances, fill_value=\"extrapolate\")\n",
    "            result = f(self.parallax_snr_goal)\n",
    "        return result"
   ]
  },
  {
   "cell_type": "code",
   "execution_count": 3,
   "metadata": {},
   "outputs": [],
   "source": [
    "class VolumeSumMetric(BaseMetric):\n",
    "    \"\"\"Compute the total volume assuming a metric has values of distance\n",
    "    \"\"\"\n",
    "    def __init__(self, col=None, metricName='VolumeSum', nside=None, **kwargs):\n",
    "        super(VolumeSumMetric, self).__init__(col=col, metricName=metricName, **kwargs)\n",
    "        self.pix_area = hp.nside2pixarea(nside)\n",
    "        \n",
    "    def run(self, dataSlice, slicePoint=None):\n",
    "        # volume of sphere, times ratio of pixel area divided by area of sphere\n",
    "        vols = 1./3. * dataSlice[self.colname]**3 * self.pix_area\n",
    "        return np.sum(vols)"
   ]
  },
  {
   "cell_type": "code",
   "execution_count": null,
   "metadata": {},
   "outputs": [
    {
     "name": "stdout",
     "output_type": "stream",
     "text": [
      "Healpix slicer using NSIDE=64, approximate resolution 54.967783 arcminutes\n",
      "Querying database SummaryAllProps with no constraint for columns ['filter', 'fieldRA', 'fiveSigmaDepth', 'seeingFwhmGeom', 'observationStartMJD', 'fieldDec'].\n",
      "Found 2227379 visits\n",
      "Running:  ['_sims_maf_fbs_1_5_wfd_depth_wfd_depth_scale0_65_noddf_v1_5_10yrs_L7_HEAL']\n"
     ]
    },
    {
     "name": "stderr",
     "output_type": "stream",
     "text": [
      "/data0/lsst_stack/stack/miniconda3-py37_4.8.2-cb4e2dc/Linux64/sims_maf/2.13.0.sims-61-g3ee711b3+fffdf3dce1/python/lsst/sims/maf/utils/astrometryUtils.py:72: RuntimeWarning: divide by zero encountered in true_divide\n",
      "  result = fwhm/(snr)\n",
      "/data0/lsst_stack/conda/miniconda3-py37_4.8.2/envs/lsst-scipipe-cb4e2dc/lib/python3.7/site-packages/ipykernel/__main__.py:57: RuntimeWarning: divide by zero encountered in true_divide\n",
      "/data0/lsst_stack/conda/miniconda3-py37_4.8.2/envs/lsst-scipipe-cb4e2dc/lib/python3.7/site-packages/ipykernel/__main__.py:58: RuntimeWarning: divide by zero encountered in true_divide\n",
      "/data0/lsst_stack/conda/miniconda3-py37_4.8.2/envs/lsst-scipipe-cb4e2dc/lib/python3.7/site-packages/ipykernel/__main__.py:60: RuntimeWarning: divide by zero encountered in true_divide\n"
     ]
    },
    {
     "name": "stdout",
     "output_type": "stream",
     "text": [
      "Completed metric generation.\n",
      "Running reduce methods.\n",
      "Running summary statistics.\n",
      "Completed.\n",
      "Plotting figures with \"\" constraint now.\n"
     ]
    },
    {
     "name": "stderr",
     "output_type": "stream",
     "text": [
      "/data0/lsst_stack/conda/miniconda3-py37_4.8.2/envs/lsst-scipipe-cb4e2dc/lib/python3.7/site-packages/healpy/pixelfunc.py:1583: UserWarning: monopole: 40.1284  dipole: lon: 149.241, lat: -82.523, amp: 8.86833\n",
      "  mono, lon, lat, amp\n"
     ]
    },
    {
     "name": "stdout",
     "output_type": "stream",
     "text": [
      "Plotting complete.\n",
      "Healpix slicer using NSIDE=64, approximate resolution 54.967783 arcminutes\n",
      "Querying database SummaryAllProps with no constraint for columns ['filter', 'fieldRA', 'fiveSigmaDepth', 'seeingFwhmGeom', 'observationStartMJD', 'fieldDec'].\n",
      "Found 2225715 visits\n",
      "Running:  ['_sims_maf_fbs_1_5_wfd_depth_wfd_depth_scale0_65_v1_5_10yrs_L7_HEAL']\n"
     ]
    },
    {
     "name": "stderr",
     "output_type": "stream",
     "text": [
      "/data0/lsst_stack/stack/miniconda3-py37_4.8.2-cb4e2dc/Linux64/sims_maf/2.13.0.sims-61-g3ee711b3+fffdf3dce1/python/lsst/sims/maf/utils/astrometryUtils.py:72: RuntimeWarning: divide by zero encountered in true_divide\n",
      "  result = fwhm/(snr)\n",
      "/data0/lsst_stack/conda/miniconda3-py37_4.8.2/envs/lsst-scipipe-cb4e2dc/lib/python3.7/site-packages/ipykernel/__main__.py:57: RuntimeWarning: divide by zero encountered in true_divide\n",
      "/data0/lsst_stack/conda/miniconda3-py37_4.8.2/envs/lsst-scipipe-cb4e2dc/lib/python3.7/site-packages/ipykernel/__main__.py:58: RuntimeWarning: divide by zero encountered in true_divide\n",
      "/data0/lsst_stack/conda/miniconda3-py37_4.8.2/envs/lsst-scipipe-cb4e2dc/lib/python3.7/site-packages/ipykernel/__main__.py:60: RuntimeWarning: divide by zero encountered in true_divide\n"
     ]
    },
    {
     "name": "stdout",
     "output_type": "stream",
     "text": [
      "Completed metric generation.\n",
      "Running reduce methods.\n",
      "Running summary statistics.\n",
      "Completed.\n",
      "Plotting figures with \"\" constraint now.\n"
     ]
    },
    {
     "name": "stderr",
     "output_type": "stream",
     "text": [
      "/data0/lsst_stack/stack/miniconda3-py37_4.8.2-cb4e2dc/Linux64/sims_maf/2.13.0.sims-61-g3ee711b3+fffdf3dce1/python/lsst/sims/maf/utils/mafUtils.py:58: UserWarning: Optimal bin calculation tried to make 218 bins, returning 200\n",
      "  warnings.warn('Optimal bin calculation tried to make %.0f bins, returning %i'%(nbins, nbinMax))\n",
      "/data0/lsst_stack/conda/miniconda3-py37_4.8.2/envs/lsst-scipipe-cb4e2dc/lib/python3.7/site-packages/healpy/pixelfunc.py:1583: UserWarning: monopole: 39.6571  dipole: lon: 140.461, lat: -82.8502, amp: 9.15171\n",
      "  mono, lon, lat, amp\n"
     ]
    },
    {
     "name": "stdout",
     "output_type": "stream",
     "text": [
      "Plotting complete.\n",
      "Healpix slicer using NSIDE=64, approximate resolution 54.967783 arcminutes\n",
      "Querying database SummaryAllProps with no constraint for columns ['filter', 'fieldRA', 'fiveSigmaDepth', 'seeingFwhmGeom', 'observationStartMJD', 'fieldDec'].\n",
      "Found 2227429 visits\n",
      "Running:  ['_sims_maf_fbs_1_5_wfd_depth_wfd_depth_scale0_70_noddf_v1_5_10yrs_L7_HEAL']\n"
     ]
    },
    {
     "name": "stderr",
     "output_type": "stream",
     "text": [
      "/data0/lsst_stack/stack/miniconda3-py37_4.8.2-cb4e2dc/Linux64/sims_maf/2.13.0.sims-61-g3ee711b3+fffdf3dce1/python/lsst/sims/maf/utils/astrometryUtils.py:72: RuntimeWarning: divide by zero encountered in true_divide\n",
      "  result = fwhm/(snr)\n",
      "/data0/lsst_stack/conda/miniconda3-py37_4.8.2/envs/lsst-scipipe-cb4e2dc/lib/python3.7/site-packages/ipykernel/__main__.py:57: RuntimeWarning: divide by zero encountered in true_divide\n",
      "/data0/lsst_stack/conda/miniconda3-py37_4.8.2/envs/lsst-scipipe-cb4e2dc/lib/python3.7/site-packages/ipykernel/__main__.py:58: RuntimeWarning: divide by zero encountered in true_divide\n",
      "/data0/lsst_stack/conda/miniconda3-py37_4.8.2/envs/lsst-scipipe-cb4e2dc/lib/python3.7/site-packages/ipykernel/__main__.py:60: RuntimeWarning: divide by zero encountered in true_divide\n"
     ]
    },
    {
     "name": "stdout",
     "output_type": "stream",
     "text": [
      "Completed metric generation.\n",
      "Running reduce methods.\n",
      "Running summary statistics.\n",
      "Completed.\n",
      "Plotting figures with \"\" constraint now.\n"
     ]
    },
    {
     "name": "stderr",
     "output_type": "stream",
     "text": [
      "/data0/lsst_stack/conda/miniconda3-py37_4.8.2/envs/lsst-scipipe-cb4e2dc/lib/python3.7/site-packages/healpy/pixelfunc.py:1583: UserWarning: monopole: 39.9364  dipole: lon: 138.975, lat: -82.5893, amp: 9.07103\n",
      "  mono, lon, lat, amp\n"
     ]
    },
    {
     "name": "stdout",
     "output_type": "stream",
     "text": [
      "Plotting complete.\n",
      "Healpix slicer using NSIDE=64, approximate resolution 54.967783 arcminutes\n",
      "Querying database SummaryAllProps with no constraint for columns ['filter', 'fieldRA', 'fiveSigmaDepth', 'seeingFwhmGeom', 'observationStartMJD', 'fieldDec'].\n",
      "Found 2225426 visits\n",
      "Running:  ['_sims_maf_fbs_1_5_wfd_depth_wfd_depth_scale0_70_v1_5_10yrs_L7_HEAL']\n"
     ]
    },
    {
     "name": "stderr",
     "output_type": "stream",
     "text": [
      "/data0/lsst_stack/stack/miniconda3-py37_4.8.2-cb4e2dc/Linux64/sims_maf/2.13.0.sims-61-g3ee711b3+fffdf3dce1/python/lsst/sims/maf/utils/astrometryUtils.py:72: RuntimeWarning: divide by zero encountered in true_divide\n",
      "  result = fwhm/(snr)\n",
      "/data0/lsst_stack/conda/miniconda3-py37_4.8.2/envs/lsst-scipipe-cb4e2dc/lib/python3.7/site-packages/ipykernel/__main__.py:57: RuntimeWarning: divide by zero encountered in true_divide\n",
      "/data0/lsst_stack/conda/miniconda3-py37_4.8.2/envs/lsst-scipipe-cb4e2dc/lib/python3.7/site-packages/ipykernel/__main__.py:58: RuntimeWarning: divide by zero encountered in true_divide\n",
      "/data0/lsst_stack/conda/miniconda3-py37_4.8.2/envs/lsst-scipipe-cb4e2dc/lib/python3.7/site-packages/ipykernel/__main__.py:60: RuntimeWarning: divide by zero encountered in true_divide\n"
     ]
    },
    {
     "name": "stdout",
     "output_type": "stream",
     "text": [
      "Completed metric generation.\n",
      "Running reduce methods.\n",
      "Running summary statistics.\n",
      "Completed.\n",
      "Plotting figures with \"\" constraint now.\n"
     ]
    },
    {
     "name": "stderr",
     "output_type": "stream",
     "text": [
      "/data0/lsst_stack/conda/miniconda3-py37_4.8.2/envs/lsst-scipipe-cb4e2dc/lib/python3.7/site-packages/healpy/pixelfunc.py:1583: UserWarning: monopole: 39.4649  dipole: lon: 135.071, lat: -82.6469, amp: 9.40949\n",
      "  mono, lon, lat, amp\n"
     ]
    },
    {
     "name": "stdout",
     "output_type": "stream",
     "text": [
      "Plotting complete.\n",
      "Healpix slicer using NSIDE=64, approximate resolution 54.967783 arcminutes\n",
      "Querying database SummaryAllProps with no constraint for columns ['filter', 'fieldRA', 'fiveSigmaDepth', 'seeingFwhmGeom', 'observationStartMJD', 'fieldDec'].\n",
      "Found 2226780 visits\n",
      "Running:  ['_sims_maf_fbs_1_5_wfd_depth_wfd_depth_scale0_75_noddf_v1_5_10yrs_L7_HEAL']\n"
     ]
    },
    {
     "name": "stderr",
     "output_type": "stream",
     "text": [
      "/data0/lsst_stack/stack/miniconda3-py37_4.8.2-cb4e2dc/Linux64/sims_maf/2.13.0.sims-61-g3ee711b3+fffdf3dce1/python/lsst/sims/maf/utils/astrometryUtils.py:72: RuntimeWarning: divide by zero encountered in true_divide\n",
      "  result = fwhm/(snr)\n",
      "/data0/lsst_stack/conda/miniconda3-py37_4.8.2/envs/lsst-scipipe-cb4e2dc/lib/python3.7/site-packages/ipykernel/__main__.py:57: RuntimeWarning: divide by zero encountered in true_divide\n",
      "/data0/lsst_stack/conda/miniconda3-py37_4.8.2/envs/lsst-scipipe-cb4e2dc/lib/python3.7/site-packages/ipykernel/__main__.py:58: RuntimeWarning: divide by zero encountered in true_divide\n",
      "/data0/lsst_stack/conda/miniconda3-py37_4.8.2/envs/lsst-scipipe-cb4e2dc/lib/python3.7/site-packages/ipykernel/__main__.py:60: RuntimeWarning: divide by zero encountered in true_divide\n"
     ]
    },
    {
     "name": "stdout",
     "output_type": "stream",
     "text": [
      "Completed metric generation.\n",
      "Running reduce methods.\n",
      "Running summary statistics.\n",
      "Completed.\n",
      "Plotting figures with \"\" constraint now.\n"
     ]
    },
    {
     "name": "stderr",
     "output_type": "stream",
     "text": [
      "/data0/lsst_stack/conda/miniconda3-py37_4.8.2/envs/lsst-scipipe-cb4e2dc/lib/python3.7/site-packages/healpy/pixelfunc.py:1583: UserWarning: monopole: 39.719  dipole: lon: 137.713, lat: -82.5063, amp: 9.26558\n",
      "  mono, lon, lat, amp\n"
     ]
    },
    {
     "name": "stdout",
     "output_type": "stream",
     "text": [
      "Plotting complete.\n",
      "Healpix slicer using NSIDE=64, approximate resolution 54.967783 arcminutes\n",
      "Querying database SummaryAllProps with no constraint for columns ['filter', 'fieldRA', 'fiveSigmaDepth', 'seeingFwhmGeom', 'observationStartMJD', 'fieldDec'].\n",
      "Found 2225234 visits\n",
      "Running:  ['_sims_maf_fbs_1_5_wfd_depth_wfd_depth_scale0_75_v1_5_10yrs_L7_HEAL']\n"
     ]
    },
    {
     "name": "stderr",
     "output_type": "stream",
     "text": [
      "/data0/lsst_stack/stack/miniconda3-py37_4.8.2-cb4e2dc/Linux64/sims_maf/2.13.0.sims-61-g3ee711b3+fffdf3dce1/python/lsst/sims/maf/utils/astrometryUtils.py:72: RuntimeWarning: divide by zero encountered in true_divide\n",
      "  result = fwhm/(snr)\n",
      "/data0/lsst_stack/conda/miniconda3-py37_4.8.2/envs/lsst-scipipe-cb4e2dc/lib/python3.7/site-packages/ipykernel/__main__.py:57: RuntimeWarning: divide by zero encountered in true_divide\n",
      "/data0/lsst_stack/conda/miniconda3-py37_4.8.2/envs/lsst-scipipe-cb4e2dc/lib/python3.7/site-packages/ipykernel/__main__.py:58: RuntimeWarning: divide by zero encountered in true_divide\n",
      "/data0/lsst_stack/conda/miniconda3-py37_4.8.2/envs/lsst-scipipe-cb4e2dc/lib/python3.7/site-packages/ipykernel/__main__.py:60: RuntimeWarning: divide by zero encountered in true_divide\n"
     ]
    },
    {
     "name": "stdout",
     "output_type": "stream",
     "text": [
      "Completed metric generation.\n",
      "Running reduce methods.\n",
      "Running summary statistics.\n",
      "Completed.\n",
      "Plotting figures with \"\" constraint now.\n"
     ]
    },
    {
     "name": "stderr",
     "output_type": "stream",
     "text": [
      "/data0/lsst_stack/conda/miniconda3-py37_4.8.2/envs/lsst-scipipe-cb4e2dc/lib/python3.7/site-packages/healpy/pixelfunc.py:1583: UserWarning: monopole: 39.2832  dipole: lon: 133.212, lat: -82.6242, amp: 9.57159\n",
      "  mono, lon, lat, amp\n"
     ]
    },
    {
     "name": "stdout",
     "output_type": "stream",
     "text": [
      "Plotting complete.\n",
      "Healpix slicer using NSIDE=64, approximate resolution 54.967783 arcminutes\n",
      "Querying database SummaryAllProps with no constraint for columns ['filter', 'fieldRA', 'fiveSigmaDepth', 'seeingFwhmGeom', 'observationStartMJD', 'fieldDec'].\n",
      "Found 2226618 visits\n",
      "Running:  ['_sims_maf_fbs_1_5_wfd_depth_wfd_depth_scale0_80_noddf_v1_5_10yrs_L7_HEAL']\n"
     ]
    }
   ],
   "source": [
    "files = glob.glob('/sims_maf/fbs_1.5/wfd_depth/*db')\n",
    "files.sort()\n",
    "results = []\n",
    "for dbFile in files:\n",
    "    \n",
    "    runName = dbFile.replace('.db', '')\n",
    "    conn = db.OpsimDatabase(dbFile)\n",
    "    \n",
    "    outDir = runName + '_bdvol'\n",
    "    outDir=outDir.replace('/sims_maf/fbs_1.5/wfd_depth/',\"BDresults/\")\n",
    "    resultsDb = db.ResultsDb(outDir=outDir)\n",
    "    \n",
    "    nside = 64\n",
    "    bundleList = []\n",
    "    #sql = 'filter=\"z\" or filter=\"y\"'\n",
    "    sql = ''\n",
    "    # Let's plug in the magnitudes for one type\n",
    "    metric = BDParallaxMetric(mags={'i': 20.09, 'z': 18.18, 'y': 17.13}, metricName='L7')\n",
    "    slicer = slicers.HealpixSlicer(nside=nside)\n",
    "    summaryStats = [VolumeSumMetric(nside=nside)]\n",
    "    plotDict = {}\n",
    "    bundleList.append(metricBundles.MetricBundle(metric,slicer,sql, plotDict=plotDict,\n",
    "                                                 summaryMetrics=summaryStats,\n",
    "                                                 runName=runName))\n",
    "    \n",
    "    bd = metricBundles.makeBundlesDictFromList(bundleList)\n",
    "    bg = metricBundles.MetricBundleGroup(bd, conn, outDir=outDir, resultsDb=resultsDb)\n",
    "    bg.runAll()\n",
    "    bg.plotAll(closefigs=False)\n",
    "\n",
    "    results.append(bg)"
   ]
  },
  {
   "cell_type": "code",
   "execution_count": null,
   "metadata": {},
   "outputs": [],
   "source": [
    "# Let's see how the total volume changes as we change the footprint\n",
    "for name, result in zip(files, results):\n",
    "    key = list(result.bundleDict.keys())[0]\n",
    "    result.bundleDict[key]\n",
    "    print(name, result.bundleDict[key].summaryValues)"
   ]
  },
  {
   "cell_type": "code",
   "execution_count": null,
   "metadata": {},
   "outputs": [],
   "source": [
    "\n",
    "\n"
   ]
  }
 ],
 "metadata": {
  "kernelspec": {
   "display_name": "LSST SIMS MAF (Py3, w.2020.45)",
   "language": "python",
   "name": "lsst_sims_maf-w.2020.45"
  },
  "language_info": {
   "codemirror_mode": {
    "name": "ipython",
    "version": 3
   },
   "file_extension": ".py",
   "mimetype": "text/x-python",
   "name": "python",
   "nbconvert_exporter": "python",
   "pygments_lexer": "ipython3",
   "version": "3.7.8"
  }
 },
 "nbformat": 4,
 "nbformat_minor": 4
}
