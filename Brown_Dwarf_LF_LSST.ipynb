{
 "cells": [
  {
   "cell_type": "markdown",
   "metadata": {},
   "source": [
    "A notebook to evaluate Vera C. Rubin Observatory LSST survey strategies for measuring the brown dwarf luminosity function.\n",
    "\n",
    "Goal: Using the latest brown dwarf luminosity function (BDLF), simulate the numbers of brown dwarfs with good parallaxes. Be able to tell if some strategies are much worse or better than baseline. The unexpected peak in the BDLF at ~1200K may make a specific metric. \n",
    "\n",
    "Remarks: Since goal to evaluate survey strategies, should ignore subtleties like spread in colors, unresolved and resolved binaries, etc.  "
   ]
  },
  {
   "cell_type": "code",
   "execution_count": 1,
   "metadata": {},
   "outputs": [],
   "source": [
    "import numpy as np\n",
    "import matplotlib.pyplot as plt\n",
    "from astropy.table import Table"
   ]
  },
  {
   "cell_type": "code",
   "execution_count": 2,
   "metadata": {},
   "outputs": [],
   "source": [
    "#load the luminosity function as a function of tempeature -- use Kirkpatrick et al. 2020 -- this \n",
    "# gives number per cubic parsec.  \n",
    "\n",
    "#load the empirical absoute magnitudes in i,z,y from PS1.  -- use Best et al. 2018 2018ApJS..234....1B\n",
    "\n",
    "#we could get empirical spectra instead but I think PS1 magnitudes make more sense."
   ]
  },
  {
   "cell_type": "code",
   "execution_count": 3,
   "metadata": {},
   "outputs": [
    {
     "data": {
      "text/html": [
       "<i>Table length=20</i>\n",
       "<table id=\"table140231408995088\" class=\"table-striped table-bordered table-condensed\">\n",
       "<thead><tr><th>type</th><th>spacedensity</th><th>Mz</th><th>My</th><th>Mi</th></tr></thead>\n",
       "<thead><tr><th>int64</th><th>float64</th><th>float64</th><th>float64</th><th>float64</th></tr></thead>\n",
       "<tr><td>0</td><td>0.00031</td><td>14.52</td><td>13.58</td><td>16.0</td></tr>\n",
       "<tr><td>1</td><td>0.00063</td><td>14.93</td><td>13.97</td><td>16.41</td></tr>\n",
       "<tr><td>2</td><td>0.00047</td><td>15.3</td><td>14.33</td><td>16.73</td></tr>\n",
       "<tr><td>3</td><td>0.00028</td><td>15.88</td><td>14.89</td><td>17.4</td></tr>\n",
       "<tr><td>4</td><td>0.00066</td><td>16.68</td><td>15.66</td><td>18.35</td></tr>\n",
       "<tr><td>5</td><td>0.00066</td><td>16.94</td><td>15.87</td><td>18.71</td></tr>\n",
       "<tr><td>6</td><td>0.00081</td><td>17.35</td><td>16.27</td><td>19.27</td></tr>\n",
       "<tr><td>7</td><td>0.0006</td><td>18.18</td><td>17.13</td><td>20.09</td></tr>\n",
       "<tr><td>8</td><td>0.00031</td><td>18.1</td><td>17.04</td><td>20.38</td></tr>\n",
       "<tr><td>9</td><td>0.00063</td><td>17.69</td><td>16.57</td><td>20.09</td></tr>\n",
       "<tr><td>10</td><td>0.00024</td><td>17.98</td><td>16.77</td><td>20.22</td></tr>\n",
       "<tr><td>11</td><td>0.00024</td><td>18.84</td><td>17.45</td><td>21.1</td></tr>\n",
       "<tr><td>12</td><td>0.00044</td><td>18.26</td><td>16.75</td><td>21.97</td></tr>\n",
       "<tr><td>13</td><td>0.00027</td><td>18.08</td><td>16.5</td><td>22.5</td></tr>\n",
       "<tr><td>14</td><td>0.00047</td><td>18.02</td><td>16.32</td><td>22.5</td></tr>\n",
       "<tr><td>15</td><td>0.00118</td><td>19.2</td><td>17.43</td><td>22.69</td></tr>\n",
       "<tr><td>16</td><td>0.00145</td><td>19.82</td><td>18.06</td><td>23.0</td></tr>\n",
       "<tr><td>17</td><td>0.00152</td><td>21.17</td><td>19.34</td><td>23.5</td></tr>\n",
       "<tr><td>18</td><td>0.00354</td><td>21.52</td><td>19.75</td><td>24.0</td></tr>\n",
       "<tr><td>19</td><td>0.00186</td><td>21.82</td><td>20.37</td><td>25.0</td></tr>\n",
       "</table>"
      ],
      "text/plain": [
       "<Table length=20>\n",
       " type spacedensity    Mz      My      Mi  \n",
       "int64   float64    float64 float64 float64\n",
       "----- ------------ ------- ------- -------\n",
       "    0      0.00031   14.52   13.58    16.0\n",
       "    1      0.00063   14.93   13.97   16.41\n",
       "    2      0.00047    15.3   14.33   16.73\n",
       "    3      0.00028   15.88   14.89    17.4\n",
       "    4      0.00066   16.68   15.66   18.35\n",
       "    5      0.00066   16.94   15.87   18.71\n",
       "    6      0.00081   17.35   16.27   19.27\n",
       "    7       0.0006   18.18   17.13   20.09\n",
       "    8      0.00031    18.1   17.04   20.38\n",
       "    9      0.00063   17.69   16.57   20.09\n",
       "   10      0.00024   17.98   16.77   20.22\n",
       "   11      0.00024   18.84   17.45    21.1\n",
       "   12      0.00044   18.26   16.75   21.97\n",
       "   13      0.00027   18.08    16.5    22.5\n",
       "   14      0.00047   18.02   16.32    22.5\n",
       "   15      0.00118    19.2   17.43   22.69\n",
       "   16      0.00145   19.82   18.06    23.0\n",
       "   17      0.00152   21.17   19.34    23.5\n",
       "   18      0.00354   21.52   19.75    24.0\n",
       "   19      0.00186   21.82   20.37    25.0"
      ]
     },
     "execution_count": 3,
     "metadata": {},
     "output_type": "execute_result"
    }
   ],
   "source": [
    "from astropy.io import ascii\n",
    "\n",
    "filename='brown_dwarf_data.txt'\n",
    "bd_data = ascii.read(filename)\n",
    "# space density units are objects per cubic parsec\n",
    "# type 1 = L1-L1.5, 10 = T0.0-0.5, etc.  \n",
    "bd_data"
   ]
  },
  {
   "cell_type": "markdown",
   "metadata": {},
   "source": [
    "We could follow three strategies:\n",
    "\n",
    "1. Monte Carlo: Place a large number of BDs out to some distance (100pc?) with random positions on sky. Calculate apparent magnitudes for each. parallax uncertainty. \n",
    "\n",
    "Question: How do we go from a list of random positions, magnitudes to uncertainty using existing metrics. \n",
    "\n",
    "2. Could instead just use one (or more?) reference distance (50 parsecs ?) and then calculate the parallax uncertainty for each spectral type at that distance.  **THIS SEEMS EASIEST.  METRIC MIGHT BE PASS/FAIL, OR CAN MODIFY DISTANCE ONCE WE UNDERSTAND FIRST PASS** \n",
    "\n",
    "3. Specify a desired accuracy parallax/sigma = 10 [or 20], calculate the volume probed at each spectral type at each point in the sky. We would get uncertainty from MAF.  **THIS WOULD LEAD TO MOST OBVIOUS METRIC**\n",
    "\n",
    "\n"
   ]
  },
  {
   "cell_type": "markdown",
   "metadata": {},
   "source": [
    "POSSIBLE METRICS:\n",
    "\n",
    "A. Number of BDs measured with sigma/pi>10.0 [at some spectral type??]\n",
    "\n",
    "B. Volume for T5 dwarfs with sigma/pi>10.0\n",
    "\n",
    "C. Coolest type with sigma/pi=10 at 50pc\n",
    "\n",
    "anyway, if we have strategy 1,2, or 3 working we can select an appropriate metric. "
   ]
  },
  {
   "cell_type": "code",
   "execution_count": 4,
   "metadata": {},
   "outputs": [],
   "source": [
    "#start strategy 2\n",
    "\n",
    "ref_distance = 50.0    #pc\n",
    "ref_parallax= 1000.0/ref_distance  #mas\n",
    "ref_dm = 5.0 * np.log10(ref_distance)-5.0"
   ]
  },
  {
   "cell_type": "code",
   "execution_count": 5,
   "metadata": {},
   "outputs": [],
   "source": [
    "bd_data['imag_ref'] = bd_data['Mi'] + ref_dm\n",
    "bd_data['zmag_ref'] = bd_data['Mz'] + ref_dm\n",
    "bd_data['ymag_ref'] = bd_data['My'] + ref_dm\n"
   ]
  },
  {
   "cell_type": "code",
   "execution_count": 6,
   "metadata": {},
   "outputs": [
    {
     "data": {
      "text/html": [
       "<i>Table length=20</i>\n",
       "<table id=\"table140231408995088\" class=\"table-striped table-bordered table-condensed\">\n",
       "<thead><tr><th>type</th><th>spacedensity</th><th>Mz</th><th>My</th><th>Mi</th><th>imag_ref</th><th>zmag_ref</th><th>ymag_ref</th></tr></thead>\n",
       "<thead><tr><th>int64</th><th>float64</th><th>float64</th><th>float64</th><th>float64</th><th>float64</th><th>float64</th><th>float64</th></tr></thead>\n",
       "<tr><td>0</td><td>0.00031</td><td>14.52</td><td>13.58</td><td>16.0</td><td>19.494850021680094</td><td>18.014850021680093</td><td>17.074850021680092</td></tr>\n",
       "<tr><td>1</td><td>0.00063</td><td>14.93</td><td>13.97</td><td>16.41</td><td>19.904850021680094</td><td>18.424850021680093</td><td>17.464850021680093</td></tr>\n",
       "<tr><td>2</td><td>0.00047</td><td>15.3</td><td>14.33</td><td>16.73</td><td>20.224850021680094</td><td>18.794850021680094</td><td>17.824850021680092</td></tr>\n",
       "<tr><td>3</td><td>0.00028</td><td>15.88</td><td>14.89</td><td>17.4</td><td>20.894850021680092</td><td>19.374850021680096</td><td>18.384850021680094</td></tr>\n",
       "<tr><td>4</td><td>0.00066</td><td>16.68</td><td>15.66</td><td>18.35</td><td>21.844850021680095</td><td>20.174850021680093</td><td>19.154850021680094</td></tr>\n",
       "<tr><td>5</td><td>0.00066</td><td>16.94</td><td>15.87</td><td>18.71</td><td>22.204850021680095</td><td>20.434850021680095</td><td>19.36485002168009</td></tr>\n",
       "<tr><td>6</td><td>0.00081</td><td>17.35</td><td>16.27</td><td>19.27</td><td>22.764850021680093</td><td>20.844850021680095</td><td>19.764850021680093</td></tr>\n",
       "<tr><td>7</td><td>0.0006</td><td>18.18</td><td>17.13</td><td>20.09</td><td>23.584850021680094</td><td>21.674850021680093</td><td>20.624850021680093</td></tr>\n",
       "<tr><td>8</td><td>0.00031</td><td>18.1</td><td>17.04</td><td>20.38</td><td>23.874850021680093</td><td>21.594850021680095</td><td>20.534850021680093</td></tr>\n",
       "<tr><td>9</td><td>0.00063</td><td>17.69</td><td>16.57</td><td>20.09</td><td>23.584850021680094</td><td>21.184850021680095</td><td>20.064850021680094</td></tr>\n",
       "<tr><td>10</td><td>0.00024</td><td>17.98</td><td>16.77</td><td>20.22</td><td>23.714850021680093</td><td>21.474850021680094</td><td>20.264850021680093</td></tr>\n",
       "<tr><td>11</td><td>0.00024</td><td>18.84</td><td>17.45</td><td>21.1</td><td>24.594850021680095</td><td>22.334850021680094</td><td>20.944850021680093</td></tr>\n",
       "<tr><td>12</td><td>0.00044</td><td>18.26</td><td>16.75</td><td>21.97</td><td>25.464850021680093</td><td>21.754850021680095</td><td>20.244850021680094</td></tr>\n",
       "<tr><td>13</td><td>0.00027</td><td>18.08</td><td>16.5</td><td>22.5</td><td>25.994850021680094</td><td>21.574850021680092</td><td>19.994850021680094</td></tr>\n",
       "<tr><td>14</td><td>0.00047</td><td>18.02</td><td>16.32</td><td>22.5</td><td>25.994850021680094</td><td>21.514850021680093</td><td>19.814850021680094</td></tr>\n",
       "<tr><td>15</td><td>0.00118</td><td>19.2</td><td>17.43</td><td>22.69</td><td>26.184850021680095</td><td>22.694850021680093</td><td>20.924850021680093</td></tr>\n",
       "<tr><td>16</td><td>0.00145</td><td>19.82</td><td>18.06</td><td>23.0</td><td>26.494850021680094</td><td>23.314850021680094</td><td>21.554850021680092</td></tr>\n",
       "<tr><td>17</td><td>0.00152</td><td>21.17</td><td>19.34</td><td>23.5</td><td>26.994850021680094</td><td>24.664850021680095</td><td>22.834850021680094</td></tr>\n",
       "<tr><td>18</td><td>0.00354</td><td>21.52</td><td>19.75</td><td>24.0</td><td>27.494850021680094</td><td>25.014850021680093</td><td>23.244850021680094</td></tr>\n",
       "<tr><td>19</td><td>0.00186</td><td>21.82</td><td>20.37</td><td>25.0</td><td>28.494850021680094</td><td>25.314850021680094</td><td>23.864850021680095</td></tr>\n",
       "</table>"
      ],
      "text/plain": [
       "<Table length=20>\n",
       " type spacedensity    Mz   ...      zmag_ref           ymag_ref     \n",
       "int64   float64    float64 ...      float64            float64      \n",
       "----- ------------ ------- ... ------------------ ------------------\n",
       "    0      0.00031   14.52 ... 18.014850021680093 17.074850021680092\n",
       "    1      0.00063   14.93 ... 18.424850021680093 17.464850021680093\n",
       "    2      0.00047    15.3 ... 18.794850021680094 17.824850021680092\n",
       "    3      0.00028   15.88 ... 19.374850021680096 18.384850021680094\n",
       "    4      0.00066   16.68 ... 20.174850021680093 19.154850021680094\n",
       "    5      0.00066   16.94 ... 20.434850021680095  19.36485002168009\n",
       "    6      0.00081   17.35 ... 20.844850021680095 19.764850021680093\n",
       "    7       0.0006   18.18 ... 21.674850021680093 20.624850021680093\n",
       "    8      0.00031    18.1 ... 21.594850021680095 20.534850021680093\n",
       "    9      0.00063   17.69 ... 21.184850021680095 20.064850021680094\n",
       "   10      0.00024   17.98 ... 21.474850021680094 20.264850021680093\n",
       "   11      0.00024   18.84 ... 22.334850021680094 20.944850021680093\n",
       "   12      0.00044   18.26 ... 21.754850021680095 20.244850021680094\n",
       "   13      0.00027   18.08 ... 21.574850021680092 19.994850021680094\n",
       "   14      0.00047   18.02 ... 21.514850021680093 19.814850021680094\n",
       "   15      0.00118    19.2 ... 22.694850021680093 20.924850021680093\n",
       "   16      0.00145   19.82 ... 23.314850021680094 21.554850021680092\n",
       "   17      0.00152   21.17 ... 24.664850021680095 22.834850021680094\n",
       "   18      0.00354   21.52 ... 25.014850021680093 23.244850021680094\n",
       "   19      0.00186   21.82 ... 25.314850021680094 23.864850021680095"
      ]
     },
     "execution_count": 6,
     "metadata": {},
     "output_type": "execute_result"
    }
   ],
   "source": [
    "bd_data"
   ]
  },
  {
   "cell_type": "markdown",
   "metadata": {},
   "source": [
    "next step: Calculate the expected uncertainty in parallax for each of these bins (i.e., each spectral type at the reference distance.) uses only z,y.  can we do this with existing MAF tool?"
   ]
  },
  {
   "cell_type": "code",
   "execution_count": null,
   "metadata": {},
   "outputs": [],
   "source": []
  }
 ],
 "metadata": {
  "kernelspec": {
   "display_name": "Python 3",
   "language": "python",
   "name": "python3"
  },
  "language_info": {
   "codemirror_mode": {
    "name": "ipython",
    "version": 3
   },
   "file_extension": ".py",
   "mimetype": "text/x-python",
   "name": "python",
   "nbconvert_exporter": "python",
   "pygments_lexer": "ipython3",
   "version": "3.7.7"
  }
 },
 "nbformat": 4,
 "nbformat_minor": 4
}
