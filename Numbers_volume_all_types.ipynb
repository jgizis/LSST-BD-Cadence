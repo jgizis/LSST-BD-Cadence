{
 "cells": [
  {
   "cell_type": "code",
   "execution_count": 1,
   "metadata": {},
   "outputs": [],
   "source": [
    "import re\n",
    "import numpy as np\n",
    "import matplotlib.pyplot as plt\n",
    "from astropy.table import Table"
   ]
  },
  {
   "cell_type": "code",
   "execution_count": 2,
   "metadata": {},
   "outputs": [],
   "source": [
    "filename_nexp1='results_allLT_nexp1.txt'\n",
    "filename_nexp2='results_allLT_nexp2.txt'\n",
    "#\n",
    "# Note, these are assumed to be in spectral type order L0, L1, ... L9, T0, T1, ... T9\n",
    "# which is the order produced by notebook bd_allLT_baseline_17 .  or could be sorted.\n",
    "#  took output of notebook bd_allLT_baseline_17  and put into txt file, then  in terminal:\n",
    "# cat results_allLT.txt | grep nexp2 > results_allLT_nexp2.txt\n",
    "# cat results_allLT.txt | grep nexp1 > results_allLT_nexp1.txt\n",
    "#"
   ]
  },
  {
   "cell_type": "code",
   "execution_count": 3,
   "metadata": {},
   "outputs": [],
   "source": [
    "volume_nexp2 = np.zeros(20)\n",
    "volume_nexp1 = np.zeros(20)\n",
    "sptype = np.arange(20)"
   ]
  },
  {
   "cell_type": "code",
   "execution_count": 4,
   "metadata": {},
   "outputs": [
    {
     "name": "stdout",
     "output_type": "stream",
     "text": [
      "[3102925.4705   2368257.5503   1839416.8387   1183601.6604\n",
      "  627190.85211   514076.03977   365682.33489   180624.91032\n",
      "  191870.63055   277806.90882   229477.6648    123145.16978\n",
      "  212093.28426   256945.68855   289136.45558   115271.5183\n",
      "   67845.744545   22749.844666   16652.80249    12768.411638]\n"
     ]
    }
   ],
   "source": [
    "file_nexp2 = open(filename_nexp2, 'r')\n",
    "lines_nexp2 = file_nexp2.readlines()\n",
    "itype=0\n",
    "for line in lines_nexp2:\n",
    "    cutline=re.sub(\".*{'VolumeSum': \",\"\",line)\n",
    "    keep=cutline[0:12]   #only first few figures are meaningful so truncation does no harm\n",
    "    #we could get spectral type from the information in the line but instead we will assume it is in order\n",
    "    volume_nexp2[itype]=float(keep)\n",
    "    itype=itype+1\n",
    "print(volume_nexp2)"
   ]
  },
  {
   "cell_type": "code",
   "execution_count": 5,
   "metadata": {},
   "outputs": [
    {
     "name": "stdout",
     "output_type": "stream",
     "text": [
      "[3337983.9527   2540181.7047   1968398.8618   1262983.0143\n",
      "  667493.27491   545958.29398   389000.11077   191443.37532\n",
      "  203489.50535   293526.21932   243374.08706   130091.1994\n",
      "  225477.89698   271978.82819   306163.48812   121833.84745\n",
      "   71674.617786   24257.708189   17318.138895   13175.284922]\n"
     ]
    }
   ],
   "source": [
    "file_nexp1 = open(filename_nexp1, 'r')\n",
    "lines_nexp1 = file_nexp1.readlines()\n",
    "itype=0\n",
    "for line in lines_nexp1:\n",
    "    cutline=re.sub(\".*{'VolumeSum': \",\"\",line)\n",
    "    keep=cutline[0:12]   #only first few figures are meaningful so truncation does no harm\n",
    "    #we could get spectral type from the information in the line but instead we will assume it is in order\n",
    "    volume_nexp1[itype]=float(keep)\n",
    "    itype=itype+1\n",
    "print(volume_nexp1)"
   ]
  },
  {
   "cell_type": "code",
   "execution_count": 6,
   "metadata": {},
   "outputs": [
    {
     "data": {
      "text/plain": [
       "Text(0.5, 0, 'Spectral Type')"
      ]
     },
     "execution_count": 6,
     "metadata": {},
     "output_type": "execute_result"
    },
    {
     "data": {
      "image/png": "[encoded data removed]",
      "text/plain": [
       "<Figure size 432x288 with 1 Axes>"
      ]
     },
     "metadata": {
      "needs_background": "light"
     },
     "output_type": "display_data"
    }
   ],
   "source": [
    "plt.plot(sptype,volume_nexp2,'-')\n",
    "plt.plot(sptype,volume_nexp1,'-')\n",
    "plt.yscale('log')\n",
    "plt.xticks([0,2,4,6,8,10,12,14,16,18],[\"L0\",\"L2\",\"L4\",\"L6\",\"L8\",\"T0\",\"T2\",\"T4\",\"T6\",\"T8\"])\n",
    "plt.ylabel('Volume (cubic parsec)')\n",
    "plt.xlabel('Spectral Type')"
   ]
  },
  {
   "cell_type": "markdown",
   "metadata": {},
   "source": [
    "In the next step, we will compute the number of ultracool dwarfs expected. We use the space densities measured by two different groups: Kirkpatrick et al. 2021 (2021ApJS..253....7K) and Best et al. 2021 (2021AJ....161...42B).  Note that these teams have made different analysis choices but most of the samples (and data for the individual objects) heavily overlap.  "
   ]
  },
  {
   "cell_type": "code",
   "execution_count": 7,
   "metadata": {},
   "outputs": [
    {
     "data": {
      "text/html": [
       "<i>Table length=20</i>\n",
       "<table id=\"table140311960172176\" class=\"table-striped table-bordered table-condensed\">\n",
       "<thead><tr><th>type</th><th>spacedensity</th><th>Mz</th><th>My</th><th>Mi</th><th>sd_best21</th></tr></thead>\n",
       "<thead><tr><th>int64</th><th>float64</th><th>float64</th><th>float64</th><th>float64</th><th>float64</th></tr></thead>\n",
       "<tr><td>0</td><td>0.00031</td><td>14.52</td><td>13.58</td><td>16.0</td><td>0.00032</td></tr>\n",
       "<tr><td>1</td><td>0.00063</td><td>14.93</td><td>13.97</td><td>16.41</td><td>0.00063</td></tr>\n",
       "<tr><td>2</td><td>0.00047</td><td>15.3</td><td>14.33</td><td>16.73</td><td>0.00044</td></tr>\n",
       "<tr><td>3</td><td>0.00028</td><td>15.88</td><td>14.89</td><td>17.4</td><td>0.00046</td></tr>\n",
       "<tr><td>4</td><td>0.00066</td><td>16.68</td><td>15.66</td><td>18.35</td><td>0.00049</td></tr>\n",
       "<tr><td>5</td><td>0.00066</td><td>16.94</td><td>15.87</td><td>18.71</td><td>0.00069</td></tr>\n",
       "<tr><td>6</td><td>0.00081</td><td>17.35</td><td>16.27</td><td>19.27</td><td>0.00034</td></tr>\n",
       "<tr><td>7</td><td>0.0006</td><td>18.18</td><td>17.13</td><td>20.09</td><td>0.00035</td></tr>\n",
       "<tr><td>8</td><td>0.00031</td><td>18.1</td><td>17.04</td><td>20.38</td><td>0.0005</td></tr>\n",
       "<tr><td>9</td><td>0.00063</td><td>17.69</td><td>16.57</td><td>20.09</td><td>0.0004</td></tr>\n",
       "<tr><td>10</td><td>0.00024</td><td>17.98</td><td>16.77</td><td>20.22</td><td>0.00013</td></tr>\n",
       "<tr><td>11</td><td>0.00024</td><td>18.84</td><td>17.45</td><td>21.1</td><td>0.00018</td></tr>\n",
       "<tr><td>12</td><td>0.00044</td><td>18.26</td><td>16.75</td><td>21.97</td><td>0.00035</td></tr>\n",
       "<tr><td>13</td><td>0.00027</td><td>18.08</td><td>16.5</td><td>22.5</td><td>0.00019</td></tr>\n",
       "<tr><td>14</td><td>0.00047</td><td>18.02</td><td>16.32</td><td>22.5</td><td>0.00036</td></tr>\n",
       "<tr><td>15</td><td>0.00118</td><td>19.2</td><td>17.43</td><td>22.69</td><td>0.00091</td></tr>\n",
       "<tr><td>16</td><td>0.00145</td><td>19.82</td><td>18.06</td><td>23.0</td><td>0.00097</td></tr>\n",
       "<tr><td>17</td><td>0.00152</td><td>21.17</td><td>19.34</td><td>23.5</td><td>0.0014</td></tr>\n",
       "<tr><td>18</td><td>0.00354</td><td>21.52</td><td>19.75</td><td>24.0</td><td>0.00134</td></tr>\n",
       "<tr><td>19</td><td>0.00186</td><td>21.82</td><td>20.37</td><td>25.0</td><td>0.0</td></tr>\n",
       "</table>"
      ],
      "text/plain": [
       "<Table length=20>\n",
       " type spacedensity    Mz      My      Mi   sd_best21\n",
       "int64   float64    float64 float64 float64  float64 \n",
       "----- ------------ ------- ------- ------- ---------\n",
       "    0      0.00031   14.52   13.58    16.0   0.00032\n",
       "    1      0.00063   14.93   13.97   16.41   0.00063\n",
       "    2      0.00047    15.3   14.33   16.73   0.00044\n",
       "    3      0.00028   15.88   14.89    17.4   0.00046\n",
       "    4      0.00066   16.68   15.66   18.35   0.00049\n",
       "    5      0.00066   16.94   15.87   18.71   0.00069\n",
       "    6      0.00081   17.35   16.27   19.27   0.00034\n",
       "    7       0.0006   18.18   17.13   20.09   0.00035\n",
       "    8      0.00031    18.1   17.04   20.38    0.0005\n",
       "    9      0.00063   17.69   16.57   20.09    0.0004\n",
       "   10      0.00024   17.98   16.77   20.22   0.00013\n",
       "   11      0.00024   18.84   17.45    21.1   0.00018\n",
       "   12      0.00044   18.26   16.75   21.97   0.00035\n",
       "   13      0.00027   18.08    16.5    22.5   0.00019\n",
       "   14      0.00047   18.02   16.32    22.5   0.00036\n",
       "   15      0.00118    19.2   17.43   22.69   0.00091\n",
       "   16      0.00145   19.82   18.06    23.0   0.00097\n",
       "   17      0.00152   21.17   19.34    23.5    0.0014\n",
       "   18      0.00354   21.52   19.75    24.0   0.00134\n",
       "   19      0.00186   21.82   20.37    25.0       0.0"
      ]
     },
     "execution_count": 7,
     "metadata": {},
     "output_type": "execute_result"
    }
   ],
   "source": [
    "from astropy.io import ascii\n",
    "\n",
    "filename='brown_dwarf_data.txt'\n",
    "bd_data = ascii.read(filename)\n",
    "# space density units are objects per cubic parsec from Kirkpatrick et al. 2021\n",
    "# sd_best21 is space density, same units, from Best et al. 2021.  NOTE: NOT INDEPENDENT SAMPLES!!!!\n",
    "# type 1 = L1-L1.5, 10 = T0.0-0.5, etc.  \n",
    "bd_data"
   ]
  },
  {
   "cell_type": "code",
   "execution_count": 11,
   "metadata": {},
   "outputs": [],
   "source": [
    "observed_numbers = bd_data['spacedensity'] * volume_nexp2\n",
    "observed_numbers_best21 = bd_data['sd_best21'] * volume_nexp2"
   ]
  },
  {
   "cell_type": "code",
   "execution_count": 12,
   "metadata": {},
   "outputs": [
    {
     "data": {
      "image/png": "[encoded data removed]",
      "text/plain": [
       "<Figure size 432x288 with 1 Axes>"
      ]
     },
     "metadata": {
      "needs_background": "light"
     },
     "output_type": "display_data"
    }
   ],
   "source": [
    "plt.plot(sptype,observed_numbers)\n",
    "plt.yscale('log')"
   ]
  },
  {
   "cell_type": "code",
   "execution_count": 15,
   "metadata": {},
   "outputs": [
    {
     "data": {
      "text/plain": [
       "Text(0, 0.5, 'Number')"
      ]
     },
     "execution_count": 15,
     "metadata": {},
     "output_type": "execute_result"
    },
    {
     "data": {
      "image/png": "[encoded data removed]",
      "text/plain": [
       "<Figure size 432x288 with 1 Axes>"
      ]
     },
     "metadata": {
      "needs_background": "light"
     },
     "output_type": "display_data"
    }
   ],
   "source": [
    "plt.bar(sptype,observed_numbers,alpha=0.7,width=0.8)\n",
    "plt.xticks([0,2,4,6,8,10,12,14,16,18],[\"L0\",\"L2\",\"L4\",\"L6\",\"L8\",\"T0\",\"T2\",\"T4\",\"T6\",\"T8\"])\n",
    "plt.yscale('log')\n",
    "plt.xlabel('Spectral Type')\n",
    "plt.ylabel('Number');"
   ]
  },
  {
   "cell_type": "code",
   "execution_count": 19,
   "metadata": {},
   "outputs": [
    {
     "data": {
      "text/plain": [
       "Text(0, 0.5, 'Number [Best20]')"
      ]
     },
     "execution_count": 19,
     "metadata": {},
     "output_type": "execute_result"
    },
    {
     "data": {
      "image/png": "[encoded data removed]",
      "text/plain": [
       "<Figure size 432x288 with 1 Axes>"
      ]
     },
     "metadata": {
      "needs_background": "light"
     },
     "output_type": "display_data"
    }
   ],
   "source": [
    "plt.bar(sptype,observed_numbers_best21,color='C1',alpha=0.7,width=0.8)\n",
    "plt.xticks([0,2,4,6,8,10,12,14,16,18],[\"L0\",\"L2\",\"L4\",\"L6\",\"L8\",\"T0\",\"T2\",\"T4\",\"T6\",\"T8\"])\n",
    "plt.yscale('log')\n",
    "plt.xlabel('Spectral Type')\n",
    "plt.ylabel('Number [Best20]');"
   ]
  },
  {
   "cell_type": "code",
   "execution_count": 24,
   "metadata": {},
   "outputs": [
    {
     "data": {
      "image/png": "[encoded data removed]",
      "text/plain": [
       "<Figure size 432x288 with 1 Axes>"
      ]
     },
     "metadata": {
      "needs_background": "light"
     },
     "output_type": "display_data"
    }
   ],
   "source": [
    "plt.bar(sptype-0.2,observed_numbers,alpha=0.7,width=0.4,label='K21')\n",
    "plt.bar(sptype+0.2,observed_numbers_best21,alpha=0.7,width=0.4,label='B21')\n",
    "plt.xticks([0,2,4,6,8,10,12,14,16,18],[\"L0\",\"L2\",\"L4\",\"L6\",\"L8\",\"T0\",\"T2\",\"T4\",\"T6\",\"T8\"])\n",
    "plt.yscale('log')\n",
    "plt.xlabel('Spectral Type')\n",
    "plt.legend()\n",
    "plt.ylabel('Number');"
   ]
  },
  {
   "cell_type": "code",
   "execution_count": null,
   "metadata": {},
   "outputs": [],
   "source": []
  }
 ],
 "metadata": {
  "kernelspec": {
   "display_name": "Python 3",
   "language": "python",
   "name": "python3"
  },
  "language_info": {
   "codemirror_mode": {
    "name": "ipython",
    "version": 3
   },
   "file_extension": ".py",
   "mimetype": "text/x-python",
   "name": "python",
   "nbconvert_exporter": "python",
   "pygments_lexer": "ipython3",
   "version": "3.7.7"
  }
 },
 "nbformat": 4,
 "nbformat_minor": 4
}
