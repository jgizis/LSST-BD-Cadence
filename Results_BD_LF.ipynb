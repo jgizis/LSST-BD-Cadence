{
 "cells": [
  {
   "cell_type": "code",
   "execution_count": 1,
   "metadata": {},
   "outputs": [],
   "source": [
    "# import the modules needed.\n",
    "from __future__ import print_function\n",
    "import os\n",
    "import numpy as np\n",
    "import matplotlib.pyplot as plt\n",
    "%matplotlib inline\n",
    "from lsst.sims.maf.db import ResultsDb\n"
   ]
  },
  {
   "cell_type": "code",
   "execution_count": 2,
   "metadata": {},
   "outputs": [],
   "source": [
    "rootDir = 'BDresults'\n",
    "rundb = {}\n",
    "rundb['baseline'] = ResultsDb(database=os.path.join(rootDir, 'resultsDb_sqlite.db'))\n"
   ]
  },
  {
   "cell_type": "code",
   "execution_count": 3,
   "metadata": {},
   "outputs": [
    {
     "name": "stdout",
     "output_type": "stream",
     "text": [
      "Help on method getMetricId in module lsst.sims.maf.db.resultsDb:\n",
      "\n",
      "getMetricId(metricName, slicerName=None, metricMetadata=None, simDataName=None) method of lsst.sims.maf.db.resultsDb.ResultsDb instance\n",
      "    Given a metric name and optional slicerName/metricMetadata/simData information,\n",
      "    Return a list of the matching metricIds.\n",
      "\n"
     ]
    }
   ],
   "source": [
    "help(rundb['baseline'].getMetricId)\n",
    "\n"
   ]
  },
  {
   "cell_type": "code",
   "execution_count": 4,
   "metadata": {},
   "outputs": [
    {
     "data": {
      "text/plain": [
       "<bound method ResultsDb.getMetricId of <lsst.sims.maf.db.resultsDb.ResultsDb object at 0x7f9882125250>>"
      ]
     },
     "execution_count": 4,
     "metadata": {},
     "output_type": "execute_result"
    }
   ],
   "source": [
    "rundb['baseline'].getMetricId"
   ]
  },
  {
   "cell_type": "code",
   "execution_count": 5,
   "metadata": {},
   "outputs": [
    {
     "name": "stdout",
     "output_type": "stream",
     "text": [
      "baseline [3]\n",
      "\n"
     ]
    }
   ],
   "source": [
    "metricName = 'L7'\n",
    "mIds = {}\n",
    "for r in rundb:\n",
    "    mIds[r] = rundb[r].getMetricId(metricName=metricName)\n",
    "    print(r, mIds[r])\n",
    "    print('')"
   ]
  },
  {
   "cell_type": "code",
   "execution_count": 6,
   "metadata": {},
   "outputs": [
    {
     "name": "stdout",
     "output_type": "stream",
     "text": [
      "baseline [3]\n"
     ]
    }
   ],
   "source": [
    "# Retrieve all summary statistics for a metric + set of metric metadata + for a particular slicer.\n",
    "metricName = 'L7'\n",
    "mIds = {}\n",
    "for r in rundb:\n",
    "    mIds[r] = rundb[r].getMetricId(metricName=metricName)\n",
    "    print(r, mIds[r])"
   ]
  },
  {
   "cell_type": "code",
   "execution_count": 7,
   "metadata": {},
   "outputs": [
    {
     "name": "stdout",
     "output_type": "stream",
     "text": [
      "Run baseline\n",
      "['_sims_maf_fbs_1_7_baseline_baseline_nexp2_v1_7_10yrs_L7_HEAL_SkyMap.pdf'\n",
      " '_sims_maf_fbs_1_7_baseline_baseline_nexp2_v1_7_10yrs_L7_HEAL_Histogram.pdf'\n",
      " '_sims_maf_fbs_1_7_baseline_baseline_nexp2_v1_7_10yrs_L7_HEAL_PowerSpectrum.pdf']\n",
      "[(3, 'L7', 'HealpixSlicer', '', 'VolumeSum', 212840.27030772)]\n",
      "\n"
     ]
    }
   ],
   "source": [
    "for r in rundb:\n",
    "    plotFiles = rundb[r].getPlotFiles(mIds[r])\n",
    "    summaryStats = rundb[r].getSummaryStats(mIds[r])\n",
    "    print(\"Run %s\" %r)\n",
    "    print(plotFiles['plotFile']) # this is a numpy array with the metric information + plot file name\n",
    "    print(summaryStats)\n",
    "    print('')"
   ]
  },
  {
   "cell_type": "code",
   "execution_count": null,
   "metadata": {},
   "outputs": [],
   "source": []
  }
 ],
 "metadata": {
  "kernelspec": {
   "display_name": "LSST SIMS MAF (Py3, w.2020.45)",
   "language": "python",
   "name": "lsst_sims_maf-w.2020.45"
  },
  "language_info": {
   "codemirror_mode": {
    "name": "ipython",
    "version": 3
   },
   "file_extension": ".py",
   "mimetype": "text/x-python",
   "name": "python",
   "nbconvert_exporter": "python",
   "pygments_lexer": "ipython3",
   "version": "3.7.8"
  }
 },
 "nbformat": 4,
 "nbformat_minor": 4
}
