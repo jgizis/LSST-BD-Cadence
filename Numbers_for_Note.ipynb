{
 "cells": [
  {
   "cell_type": "code",
   "execution_count": 1,
   "metadata": {},
   "outputs": [],
   "source": [
    "import numpy as no"
   ]
  },
  {
   "cell_type": "code",
   "execution_count": 2,
   "metadata": {},
   "outputs": [],
   "source": [
    "#these are the L7 metric numbers for various calculations\n",
    "# I have cut and pasted the full output but only the first 3-4 digits are meaningful!"
   ]
  },
  {
   "cell_type": "code",
   "execution_count": 3,
   "metadata": {},
   "outputs": [],
   "source": [
    "baseline_17_n2 = 212840.27030771854   #official baseline for 1.7  with 2 snaps, 15s each\n",
    "baseline_17_n1 = 221280.607090192"
   ]
  },
  {
   "cell_type": "code",
   "execution_count": 4,
   "metadata": {},
   "outputs": [],
   "source": [
    "baseline_15_n2 = 217922.3901590727    #2 snaps\n",
    "baseline_15_n1 = 225779.2804859185    #offical baseline for 1.5 with one snap, 30s"
   ]
  },
  {
   "cell_type": "code",
   "execution_count": 5,
   "metadata": {},
   "outputs": [],
   "source": [
    "baseline_16_n2 = 214047.49963740897\n",
    "baseline_16_n1 = 222163.27262236737"
   ]
  },
  {
   "cell_type": "code",
   "execution_count": 15,
   "metadata": {},
   "outputs": [
    {
     "name": "stdout",
     "output_type": "stream",
     "text": [
      "V1.5 Snap 1 / Snap 2 1.036\n",
      "V1.6 Snap 1 / Snap 2 1.038\n",
      "V1.7 Snap 1 / Snap 2 1.040\n"
     ]
    }
   ],
   "source": [
    "#Number of snaps effect on metric:\n",
    "print('V1.5 Snap 1 / Snap 2 {0:.3f}'.format(baseline_15_n1/baseline_15_n2))\n",
    "print('V1.6 Snap 1 / Snap 2 {0:.3f}'.format(baseline_16_n1/baseline_16_n2))\n",
    "print('V1.7 Snap 1 / Snap 2 {0:.3f}'.format(baseline_17_n1/baseline_17_n2))\n"
   ]
  },
  {
   "cell_type": "code",
   "execution_count": 9,
   "metadata": {},
   "outputs": [
    {
     "name": "stdout",
     "output_type": "stream",
     "text": [
      "Filter_dist 5 zy heavy 1.100\n",
      "Filter_dist 8 redder 1.029\n"
     ]
    }
   ],
   "source": [
    "#Let's look at filter_dist family\n",
    "filter5_15 = 248352.95701960914\n",
    "filter8_15 = 232417.39938267393\n",
    "print('Filter_dist 5 zy heavy {0:.3f}'.format(filter5_15/baseline_15_n1))\n",
    "print('Filter_dist 8 redder {0:.3f}'.format(filter8_15/baseline_15_n1))\n",
    "#Redder are better!\n",
    "#bluer is bad\n"
   ]
  },
  {
   "cell_type": "code",
   "execution_count": 16,
   "metadata": {},
   "outputs": [
    {
     "name": "stdout",
     "output_type": "stream",
     "text": [
      "Better Astrometry 1.7 2 snap 1.069\n",
      "Better Astrometry 1.7 1 snap 1.065\n"
     ]
    }
   ],
   "source": [
    "#BASELINE 1.7 but with reduced astrometric error 0.005 \n",
    "better_astrom_17_n2 = 227516.85093965093   #official baseline for 1.7  with 2 snaps, 15s each\n",
    "better_astrom_17_n1 = 235660.92217125942\n",
    "print('Better Astrometry 1.7 2 snap {0:.3f}'.format(better_astrom_17_n2/baseline_17_n2))\n",
    "print('Better Astrometry 1.7 1 snap {0:.3f}'.format(better_astrom_17_n1/baseline_17_n1))"
   ]
  },
  {
   "cell_type": "code",
   "execution_count": 14,
   "metadata": {},
   "outputs": [
    {
     "name": "stdout",
     "output_type": "stream",
     "text": [
      "u long 50 second 0.983\n"
     ]
    }
   ],
   "source": [
    "#u long is specific question\n",
    "u_long_50=209278.50760759806\n",
    "print('u long 50 second {0:.3f}'.format(u_long_50/baseline_17_n2))"
   ]
  },
  {
   "cell_type": "code",
   "execution_count": 31,
   "metadata": {},
   "outputs": [
    {
     "name": "stdout",
     "output_type": "stream",
     "text": [
      "V1.5 bulges cadence bulge 1.052\n",
      "V1.5 bulge wfd 1.054\n"
     ]
    }
   ],
   "source": [
    "#Add Galactic plane (bulges)\n",
    "bulges_cadence_bulge_wfd=237576.3345883375\n",
    "print('V1.5 bulges cadence bulge wfd{0:.3f}'.format(bulges_cadence_bulge_wfd/baseline_15_n1))\n",
    "bulge_wfd=238054.98788191465\n",
    "print('V1.5 bulge wfd {0:.3f}'.format(bulge_wfd/baseline_15_n1))\n",
    "\n"
   ]
  },
  {
   "cell_type": "code",
   "execution_count": 44,
   "metadata": {},
   "outputs": [
    {
     "name": "stdout",
     "output_type": "stream",
     "text": [
      "V1.7 Rolling scale 0.2 nslice 2 1.001\n",
      "V1.6 Rolling fpo 3 slice 1.0 0.987\n",
      "V1.6 Rolling fpo 2 slice 0.8 1.002\n",
      "V1.5 Rolling_mod 2 0.10    0.980\n",
      "V1.5 Rolling_mod 6 0.10    0.950\n"
     ]
    }
   ],
   "source": [
    "#rolling cadences V1.7 little change\n",
    "roll1_17=213073.53503574352\n",
    "print('V1.7 Rolling scale 0.2 nslice 2 {0:.3f}'.format(roll1_17/baseline_17_n2))\n",
    "#rolling fpo V1.6\n",
    "roll6_16 =  219320.49491365533\n",
    "print('V1.6 Rolling fpo 3 slice 1.0 {0:.3f}'.format(roll6_16/baseline_16_n1))\n",
    "roll1_16 = 222505.25774289016\n",
    "print('V1.6 Rolling fpo 2 slice 0.8 {0:.3f}'.format(roll1_16/baseline_16_n1))\n",
    "\n",
    "#some 1.5 rolling cadence\n",
    "#this one is best:\n",
    "roll2_010_15=221182.69073755172\n",
    "#and worst\n",
    "roll6_010_15= 214426.07962163328\n",
    "print('V1.5 Rolling_mod 2 0.10    {0:.3f}'.format(roll2_010_15/baseline_15_n1))\n",
    "print('V1.5 Rolling_mod 6 0.10    {0:.3f}'.format(roll6_010_15/baseline_15_n1))\n"
   ]
  },
  {
   "cell_type": "code",
   "execution_count": 21,
   "metadata": {},
   "outputs": [
    {
     "name": "stdout",
     "output_type": "stream",
     "text": [
      "V1.5 WFD 0.70 1.005\n",
      "V1.5 WFD 0.95 0.990\n"
     ]
    }
   ],
   "source": [
    "#WFD scale  \n",
    "wfd_070_15=226851.25095928326\n",
    "wfd_095_15=223533.2653488442\n",
    "print('V1.5 WFD 0.70 {0:.3f}'.format(wfd_070_15/baseline_15_n1))\n",
    "print('V1.5 WFD 0.95 {0:.3f}'.format(wfd_095_15/baseline_15_n1))\n"
   ]
  },
  {
   "cell_type": "code",
   "execution_count": 27,
   "metadata": {},
   "outputs": [
    {
     "name": "stdout",
     "output_type": "stream",
     "text": [
      "V1.5 STUCK! 0.837\n",
      "V1.5 bluer 0.901\n",
      "V1.5 standard 0.999\n",
      "V1.5 big sky dust 0.949\n",
      "V1.5 big sky nouiy 0.913\n",
      "V1.5 big sky 0.907\n",
      "V1.5 big wfd   1.060\n",
      "V1.5 big newA  1.095\n",
      "V1.5 big newB  1.056\n",
      "V1.5 gp smooth 1.029\n"
     ]
    }
   ],
   "source": [
    "#Footprints V1.5\n",
    "foot_stuck_15 = 188983.10227240616\n",
    "foot_bluer_15 = 203441.29214042914\n",
    "foot_standard_goals = 225528.73386996295\n",
    "print('V1.5 STUCK! {0:.3f}'.format(foot_stuck_15/baseline_15_n1))\n",
    "print('V1.5 bluer {0:.3f}'.format(foot_bluer_15/baseline_15_n1))\n",
    "print('V1.5 standard {0:.3f}'.format(foot_standard_goals/baseline_15_n1))\n",
    "\n",
    "#BigSky V15\n",
    "foot_big_dust= 214273.02456614905\n",
    "foot_big_nouiy= 206229.4306374527\n",
    "foot_big_sky= 204769.19435360428\n",
    "print('V1.5 big sky dust {0:.3f}'.format(foot_big_dust/baseline_15_n1))\n",
    "print('V1.5 big sky nouiy {0:.3f}'.format(foot_big_nouiy/baseline_15_n1))\n",
    "print('V1.5 big sky {0:.3f}'.format(foot_big_sky/baseline_15_n1))\n",
    "# need to understand why Big Sky is so bad.\n",
    "\n",
    "#Other big footprints\n",
    "foot_big_wfd = 239418.2925034677\n",
    "foot_newA = 247210.07134844578\n",
    "foot_newB = 238406.8942668382\n",
    "foot_gp_smooth = 232415.71300250525\n",
    "print('V1.5 big wfd   {0:.3f}'.format(foot_big_wfd/baseline_15_n1))\n",
    "print('V1.5 big newA  {0:.3f}'.format(foot_newA/baseline_15_n1))\n",
    "print('V1.5 big newB  {0:.3f}'.format(foot_newB/baseline_15_n1))\n",
    "print('V1.5 gp smooth {0:.3f}'.format(foot_gp_smooth/baseline_15_n1))\n",
    "\n",
    "\n",
    "\n"
   ]
  },
  {
   "cell_type": "code",
   "execution_count": 32,
   "metadata": {},
   "outputs": [
    {
     "name": "stdout",
     "output_type": "stream",
     "text": [
      "V1.7 footprint tune 0 1.013\n",
      "V1.7 footprint tune 8 1.003\n"
     ]
    }
   ],
   "source": [
    "#Footprint tune\n",
    "fp_tune_0=215611.83830047873\n",
    "fp_tune_8=213527.59861354897\n",
    "print('V1.7 footprint tune 0 {0:.3f}'.format(fp_tune_0/baseline_17_n2))\n",
    "print('V1.7 footprint tune 8 {0:.3f}'.format(fp_tune_8/baseline_17_n2))\n",
    "# not much difference in others so didn't bother printing them. \n",
    "\n"
   ]
  },
  {
   "cell_type": "code",
   "execution_count": 36,
   "metadata": {},
   "outputs": [
    {
     "name": "stdout",
     "output_type": "stream",
     "text": [
      "V1.5 third obs 30 min 1.000\n",
      "V1.5 third obs 60 min 0.995\n",
      "V1.5 third obs 90 min 0.995\n",
      "V1.5 third obs 120 min 0.990\n"
     ]
    }
   ],
   "source": [
    "#Third observation\n",
    "third_obs_pt120 = 223608.59507789806\n",
    "third_obs_pt90 = 224584.94953424088\n",
    "third_obs_pt60 = 224695.2469939302\n",
    "third_obs_pt30 = 225673.1699003754\n",
    "print('V1.5 third obs 30 min {0:.3f}'.format(third_obs_pt30/baseline_15_n1))\n",
    "print('V1.5 third obs 60 min {0:.3f}'.format(third_obs_pt60/baseline_15_n1))\n",
    "print('V1.5 third obs 90 min {0:.3f}'.format(third_obs_pt90/baseline_15_n1))\n",
    "print('V1.5 third obs 120 min {0:.3f}'.format(third_obs_pt120/baseline_15_n1))\n"
   ]
  },
  {
   "cell_type": "code",
   "execution_count": 38,
   "metadata": {},
   "outputs": [
    {
     "name": "stdout",
     "output_type": "stream",
     "text": [
      "V1.6 potential schedulers\n",
      "baseline 1.000\n",
      "barebones 0.920\n",
      "combo_dust 1.038\n",
      "dm_heavy 0.970\n",
      "ddf_heavy 0.963\n",
      "mw_heavy 1.008\n",
      "ss_heavy 1.007\n",
      "rolling_exgal 1.014\n"
     ]
    }
   ],
   "source": [
    "#V1.6 potential schedulers\n",
    "p_baseline = 222163.27262236737\n",
    "p_combo_dust = 230597.46614518703\n",
    "p_barebones = 204382.46090700635\n",
    "p_ddf_heavy = 213960.81404500114\n",
    "p_dm_heavy = 215605.54584258067\n",
    "p_mw_heavy = 223944.121202762\n",
    "p_rolling_exgal = 225246.18592986904\n",
    "p_ss_heavy = 223624.34035415907\n",
    "print('V1.6 potential schedulers')\n",
    "print('baseline {0:.3f}'.format(p_baseline/baseline_16_n1))\n",
    "print('barebones {0:.3f}'.format(p_barebones/baseline_16_n1))\n",
    "print('combo_dust {0:.3f}'.format(p_combo_dust/baseline_16_n1))\n",
    "print('dm_heavy {0:.3f}'.format(p_dm_heavy/baseline_16_n1))\n",
    "print('ddf_heavy {0:.3f}'.format(p_ddf_heavy/baseline_16_n1))\n",
    "print('mw_heavy {0:.3f}'.format(p_mw_heavy/baseline_16_n1))\n",
    "print('ss_heavy {0:.3f}'.format(p_ss_heavy/baseline_16_n1))\n",
    "print('rolling_exgal {0:.3f}'.format(p_rolling_exgal/baseline_16_n1))\n"
   ]
  },
  {
   "cell_type": "code",
   "execution_count": 42,
   "metadata": {},
   "outputs": [
    {
     "name": "stdout",
     "output_type": "stream",
     "text": [
      "even filter alt_g 1.005\n",
      "even filter alv 1.000\n",
      "even filter g 1.008\n"
     ]
    }
   ],
   "source": [
    "#Evening out filters family V1.6\n",
    "ef_alt_g=223310.84284544428\n",
    "ef_alv=222218.46953422588\n",
    "ef_g=224039.02627899585\n",
    "ef_ef=223401.42617716838\n",
    "print('even filter alt_g {0:.3f}'.format(ef_alt_g/baseline_16_n1))\n",
    "print('even filter alv {0:.3f}'.format(ef_alv/baseline_16_n1))\n",
    "print('even filter g {0:.3f}'.format(ef_g/baseline_16_n1))\n",
    "\n",
    "\n",
    "#small effects don't discuss\n",
    "# Report notes that it has an effect on clustering of y filter observations\n",
    "# due to sky brightnesses, but since parallax signal varies on months (i.e., P=one year!)\n",
    "# that may not matter very much.  \n"
   ]
  },
  {
   "cell_type": "code",
   "execution_count": null,
   "metadata": {},
   "outputs": [],
   "source": []
  }
 ],
 "metadata": {
  "kernelspec": {
   "display_name": "Python 3",
   "language": "python",
   "name": "python3"
  },
  "language_info": {
   "codemirror_mode": {
    "name": "ipython",
    "version": 3
   },
   "file_extension": ".py",
   "mimetype": "text/x-python",
   "name": "python",
   "nbconvert_exporter": "python",
   "pygments_lexer": "ipython3",
   "version": "3.7.7"
  }
 },
 "nbformat": 4,
 "nbformat_minor": 4
}
